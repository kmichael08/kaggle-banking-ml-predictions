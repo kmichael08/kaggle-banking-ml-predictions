{
 "cells": [
  {
   "cell_type": "markdown",
   "metadata": {},
   "source": [
    "TODO:\n",
    "* visualization\n",
    "* feature engineering OK\n",
    "* cross validation OK\n",
    "* grid search OK\n",
    "* stratification\n",
    "* understand auc OK\n",
    "* docker image\n",
    "* advice on kaggle OK\n",
    "* understand boosting\n",
    "* neural network\n",
    "* pandas warning\n",
    "* xgboost OK\n",
    "* outliers\n",
    "* remove when unknown ??\n",
    "* clean data\n",
    "* make sure it works when rerun from scratch\n",
    "* feature selection NOT HELPING"
   ]
  },
  {
   "cell_type": "code",
   "execution_count": 1,
   "metadata": {},
   "outputs": [
    {
     "name": "stdout",
     "output_type": "stream",
     "text": [
      "bank-classification.csv  mnist_cnn.ipynb    README.md\r\n",
      "experiments.ipynb\t my_submission.csv  sample_submission.csv\r\n"
     ]
    }
   ],
   "source": [
    "!ls"
   ]
  },
  {
   "cell_type": "code",
   "execution_count": 2,
   "metadata": {},
   "outputs": [
    {
     "name": "stdout",
     "output_type": "stream",
     "text": [
      "id,y\r\n",
      "2,0.114428578297\r\n",
      "4,0.114428578297\r\n",
      "5,0.114428578297\r\n",
      "7,0.114428578297\r\n",
      "10,0.114428578297\r\n",
      "12,0.114428578297\r\n",
      "14,0.114428578297\r\n",
      "16,0.114428578297\r\n",
      "18,0.114428578297\r\n"
     ]
    }
   ],
   "source": [
    "!head sample_submission.csv"
   ]
  },
  {
   "cell_type": "code",
   "execution_count": 148,
   "metadata": {},
   "outputs": [
    {
     "name": "stdout",
     "output_type": "stream",
     "text": [
      "          id  birth_date          job  marital    education  default housing  \\\n",
      "32884  32885  1952-07-15   technician  married  high.school       no      no   \n",
      "3169    3170  1953-06-30      unknown  married      unknown  unknown     yes   \n",
      "32206  32207  1976-09-12  blue-collar  married     basic.9y       no      no   \n",
      "9403    9404  1972-04-10       admin.  married  high.school       no      no   \n",
      "14020  14021  1981-05-25    housemaid  married  high.school       no     yes   \n",
      "\n",
      "      loan contact_date    contact  campaign  pdays  previous     poutcome  \\\n",
      "32884  yes   2009-05-04   cellular         1    999         1      failure   \n",
      "3169    no   2008-05-08  telephone         2    999         0  nonexistent   \n",
      "32206   no   2009-05-08   cellular         1    999         1      failure   \n",
      "9403    no   2008-06-27  telephone         4    999         0  nonexistent   \n",
      "14020   no   2008-07-25   cellular         2    999         0  nonexistent   \n",
      "\n",
      "             y  \n",
      "32884  unknown  \n",
      "3169   unknown  \n",
      "32206       no  \n",
      "9403        no  \n",
      "14020  unknown  \n"
     ]
    }
   ],
   "source": [
    "import pandas as pd\n",
    "df = pd.read_csv('bank-classification.csv')\n",
    "# It's important to shuffle the data\n",
    "df = df.sample(frac=1, replace=False, random_state=42)\n",
    "print(df[:5])"
   ]
  },
  {
   "cell_type": "markdown",
   "metadata": {},
   "source": [
    "### Let's split training and test sets."
   ]
  },
  {
   "cell_type": "code",
   "execution_count": 4,
   "metadata": {},
   "outputs": [],
   "source": [
    "train_df = df.loc[df['y'] != 'unknown']\n",
    "test_df = df.loc[df['y'] == 'unknown']"
   ]
  },
  {
   "cell_type": "code",
   "execution_count": 5,
   "metadata": {},
   "outputs": [
    {
     "name": "stderr",
     "output_type": "stream",
     "text": [
      "/home/michal/Pulpit/jnp_ml/mlenv/lib/python3.5/site-packages/pandas/core/indexing.py:517: SettingWithCopyWarning: \n",
      "A value is trying to be set on a copy of a slice from a DataFrame.\n",
      "Try using .loc[row_indexer,col_indexer] = value instead\n",
      "\n",
      "See the caveats in the documentation: http://pandas.pydata.org/pandas-docs/stable/indexing.html#indexing-view-versus-copy\n",
      "  self.obj[item] = s\n"
     ]
    }
   ],
   "source": [
    "train_df.loc[:, 'y'] = train_df.loc[:, 'y'].map({'no': 0, 'yes': 1})"
   ]
  },
  {
   "cell_type": "markdown",
   "metadata": {},
   "source": [
    "#### Let's make sure it works despite warning"
   ]
  },
  {
   "cell_type": "code",
   "execution_count": 8,
   "metadata": {},
   "outputs": [
    {
     "data": {
      "text/plain": [
       "32206    0\n",
       "9403     0\n",
       "17201    0\n",
       "23757    0\n",
       "16735    0\n",
       "Name: y, dtype: int64"
      ]
     },
     "execution_count": 8,
     "metadata": {},
     "output_type": "execute_result"
    }
   ],
   "source": [
    "train_df['y'][:5]"
   ]
  },
  {
   "cell_type": "markdown",
   "metadata": {},
   "source": [
    "### Let's examine the proportion of yes/no labels in training set"
   ]
  },
  {
   "cell_type": "code",
   "execution_count": 150,
   "metadata": {},
   "outputs": [
    {
     "data": {
      "text/plain": [
       "0    18419\n",
       "1     2380\n",
       "Name: y, dtype: int64"
      ]
     },
     "execution_count": 150,
     "metadata": {},
     "output_type": "execute_result"
    }
   ],
   "source": [
    "pd.value_counts(train_df.y)"
   ]
  },
  {
   "cell_type": "code",
   "execution_count": 30,
   "metadata": {},
   "outputs": [],
   "source": [
    "def get_year(date):\n",
    "    year_str = date[:4]\n",
    "    year = int(year_str)\n",
    "    return year\n",
    "\n",
    "def get_month(date):\n",
    "    month_str = date[5:7]\n",
    "    month = int(month_str)\n",
    "    return month\n",
    "\n",
    "def get_year_and_month(date):\n",
    "    return get_year(date), get_month(date)"
   ]
  },
  {
   "cell_type": "markdown",
   "metadata": {},
   "source": [
    "### Let's look at the job distribution and the probabilities."
   ]
  },
  {
   "cell_type": "code",
   "execution_count": 184,
   "metadata": {},
   "outputs": [
    {
     "data": {
      "image/png": "[encoded data removed]",
      "text/plain": [
       "<matplotlib.figure.Figure at 0x7fa4285ebeb8>"
      ]
     },
     "metadata": {},
     "output_type": "display_data"
    }
   ],
   "source": [
    "import matplotlib.pyplot as plt\n",
    "pd.crosstab(train_df.education, train_df.y).plot(kind='bar', figsize=(14, 6))\n",
    "plt.title('Clients with deposits depending on the education')\n",
    "plt.xlabel('Education')\n",
    "plt.ylabel('Number of clients')\n",
    "plt.show()"
   ]
  },
  {
   "cell_type": "markdown",
   "metadata": {},
   "source": [
    "### Let's check if the distributions are equal on train and test sets"
   ]
  },
  {
   "cell_type": "code",
   "execution_count": 183,
   "metadata": {},
   "outputs": [
    {
     "data": {
      "image/png": "[encoded data removed]",
      "text/plain": [
       "<matplotlib.figure.Figure at 0x7fa42882a6a0>"
      ]
     },
     "metadata": {},
     "output_type": "display_data"
    }
   ],
   "source": [
    "education_test = pd.value_counts(test_df.education) / len(test_df)\n",
    "education_train = pd.value_counts(train_df.education) / len(train_df)\n",
    "plt.figure(figsize=(20, 5))\n",
    "bar_width = 0.35\n",
    "n_groups = len(education_test.keys())\n",
    "index = np.arange(n_groups)\n",
    "plt.bar(index, education_test, bar_width)\n",
    "plt.bar(index + bar_width, education_train, bar_width)\n",
    "plt.xticks(index + bar_width, education_test.keys())\n",
    "plt.show()"
   ]
  },
  {
   "cell_type": "markdown",
   "metadata": {},
   "source": [
    "### Let's examine the medium chance of a deposit subscription regarding the education."
   ]
  },
  {
   "cell_type": "code",
   "execution_count": 147,
   "metadata": {},
   "outputs": [
    {
     "name": "stdout",
     "output_type": "stream",
     "text": [
      "                            y\n",
      "education                    \n",
      "basic.4y             0.109099\n",
      "basic.6y             0.076068\n",
      "basic.9y             0.082891\n",
      "high.school          0.112738\n",
      "illiterate           0.142857\n",
      "professional.course  0.110340\n",
      "university.degree    0.137435\n",
      "unknown              0.145434\n"
     ]
    }
   ],
   "source": [
    "education_means = train_df.get(['education', 'y']).groupby(['education']).mean()\n",
    "print(education_means)"
   ]
  },
  {
   "cell_type": "markdown",
   "metadata": {},
   "source": [
    "### Let's examine the same for profession."
   ]
  },
  {
   "cell_type": "code",
   "execution_count": 180,
   "metadata": {},
   "outputs": [
    {
     "data": {
      "image/png": "[encoded data removed]",
      "text/plain": [
       "<matplotlib.figure.Figure at 0x7fa4286a2208>"
      ]
     },
     "metadata": {},
     "output_type": "display_data"
    }
   ],
   "source": [
    "import matplotlib.pyplot as plt\n",
    "pd.crosstab(train_df.job, train_df.y).plot(kind='bar', figsize=(15, 7))\n",
    "plt.title('Clients with deposits depending on the job')\n",
    "plt.xlabel('Job')\n",
    "plt.ylabel('Number of clients')\n",
    "plt.show()"
   ]
  },
  {
   "cell_type": "code",
   "execution_count": 182,
   "metadata": {},
   "outputs": [
    {
     "data": {
      "image/png": "[encoded data removed]",
      "text/plain": [
       "<matplotlib.figure.Figure at 0x7fa42856ebe0>"
      ]
     },
     "metadata": {},
     "output_type": "display_data"
    }
   ],
   "source": [
    "job_means = train_df.get(['job', 'y']).groupby(['job']).mean()\n",
    "job_means.plot(kind='bar', figsize=(15, 5))\n",
    "plt.show()"
   ]
  },
  {
   "cell_type": "markdown",
   "metadata": {},
   "source": [
    "Type of contact is correlated with the final decision."
   ]
  },
  {
   "cell_type": "code",
   "execution_count": 152,
   "metadata": {},
   "outputs": [
    {
     "name": "stdout",
     "output_type": "stream",
     "text": [
      "cellular     13212\n",
      "telephone     7587\n",
      "Name: contact, dtype: int64\n",
      "                  y\n",
      "contact            \n",
      "cellular   0.149864\n",
      "telephone  0.052722\n"
     ]
    }
   ],
   "source": [
    "print(pd.value_counts(train_df.contact))\n",
    "print(train_df.get(['y', 'contact']).groupby(['contact']).mean())"
   ]
  },
  {
   "cell_type": "code",
   "execution_count": 50,
   "metadata": {},
   "outputs": [
    {
     "name": "stdout",
     "output_type": "stream",
     "text": [
      "{0: 0.089807039982205419, 1: 0.21616871704745166, 2: 0.48186528497409326, 3: 0.59459459459459463, 4: 0.46875, 5: 0.7142857142857143, 6: 0.33333333333333331, 7: 0.0}\n"
     ]
    }
   ],
   "source": [
    "mapping = train_df.get(['previous', 'y']).groupby(['previous']).agg(np.mean)\n",
    "mapping_dict = dict(zip(range(8), mapping.y))\n",
    "print(mapping_dict)\n",
    "previous_transformed = train_df.previous.map(mapping_dict)"
   ]
  },
  {
   "cell_type": "code",
   "execution_count": 51,
   "metadata": {},
   "outputs": [
    {
     "name": "stdout",
     "output_type": "stream",
     "text": [
      "{'nonexistent': 0.089807039982205419, 'success': 0.65527488855869243, 'failure': 0.15118992067195519}\n",
      "32206    0.151190\n",
      "9403     0.089807\n",
      "17201    0.089807\n",
      "23757    0.089807\n",
      "16735    0.089807\n",
      "8040     0.089807\n",
      "14064    0.089807\n",
      "17688    0.089807\n",
      "17267    0.089807\n",
      "8528     0.089807\n",
      "33728    0.089807\n",
      "36968    0.089807\n",
      "36562    0.089807\n",
      "40868    0.089807\n",
      "11042    0.089807\n",
      "23685    0.089807\n",
      "8725     0.089807\n",
      "28062    0.151190\n",
      "6314     0.089807\n",
      "12357    0.089807\n",
      "12515    0.089807\n",
      "23461    0.089807\n",
      "6108     0.089807\n",
      "32668    0.151190\n",
      "2464     0.089807\n",
      "33789    0.655275\n",
      "12893    0.089807\n",
      "39196    0.655275\n",
      "29731    0.089807\n",
      "27101    0.089807\n",
      "           ...   \n",
      "13417    0.089807\n",
      "1021     0.089807\n",
      "19457    0.089807\n",
      "23939    0.089807\n",
      "3943     0.089807\n",
      "26531    0.089807\n",
      "35920    0.151190\n",
      "14541    0.089807\n",
      "40994    0.655275\n",
      "17159    0.089807\n",
      "23897    0.089807\n",
      "11016    0.089807\n",
      "14502    0.089807\n",
      "30740    0.151190\n",
      "3556     0.089807\n",
      "1267     0.089807\n",
      "1899     0.089807\n",
      "19118    0.089807\n",
      "18431    0.089807\n",
      "18942    0.089807\n",
      "25658    0.151190\n",
      "27480    0.089807\n",
      "6396     0.089807\n",
      "39188    0.089807\n",
      "5311     0.089807\n",
      "41090    0.655275\n",
      "21962    0.089807\n",
      "37194    0.089807\n",
      "11284    0.089807\n",
      "15795    0.089807\n",
      "Name: poutcome, Length: 20799, dtype: float64\n"
     ]
    }
   ],
   "source": [
    "mapping = train_df.get(['poutcome', 'y']).groupby(['poutcome']).agg(np.mean)\n",
    "mapping_dict = dict(zip(['failure', 'nonexistent', 'success'], mapping.y))\n",
    "print(mapping_dict)\n",
    "poutcome_transformed = train_df.poutcome.map(mapping_dict)\n",
    "import matplotlib.pyplot as plt\n",
    "print(poutcome_transformed)\n"
   ]
  },
  {
   "cell_type": "code",
   "execution_count": 52,
   "metadata": {},
   "outputs": [
    {
     "data": {
      "text/html": [
       "<div>\n",
       "<style>\n",
       "    .dataframe thead tr:only-child th {\n",
       "        text-align: right;\n",
       "    }\n",
       "\n",
       "    .dataframe thead th {\n",
       "        text-align: left;\n",
       "    }\n",
       "\n",
       "    .dataframe tbody tr th {\n",
       "        vertical-align: top;\n",
       "    }\n",
       "</style>\n",
       "<table border=\"1\" class=\"dataframe\">\n",
       "  <thead>\n",
       "    <tr style=\"text-align: right;\">\n",
       "      <th></th>\n",
       "      <th>id</th>\n",
       "    </tr>\n",
       "    <tr>\n",
       "      <th>marital</th>\n",
       "      <th></th>\n",
       "    </tr>\n",
       "  </thead>\n",
       "  <tbody>\n",
       "    <tr>\n",
       "      <th>divorced</th>\n",
       "      <td>2347</td>\n",
       "    </tr>\n",
       "    <tr>\n",
       "      <th>married</th>\n",
       "      <td>12512</td>\n",
       "    </tr>\n",
       "    <tr>\n",
       "      <th>single</th>\n",
       "      <td>5896</td>\n",
       "    </tr>\n",
       "    <tr>\n",
       "      <th>unknown</th>\n",
       "      <td>44</td>\n",
       "    </tr>\n",
       "  </tbody>\n",
       "</table>\n",
       "</div>"
      ],
      "text/plain": [
       "             id\n",
       "marital        \n",
       "divorced   2347\n",
       "married   12512\n",
       "single     5896\n",
       "unknown      44"
      ]
     },
     "execution_count": 52,
     "metadata": {},
     "output_type": "execute_result"
    }
   ],
   "source": [
    "train_df.get(['id', 'marital']).groupby(['marital']).count()"
   ]
  },
  {
   "cell_type": "code",
   "execution_count": 53,
   "metadata": {},
   "outputs": [],
   "source": [
    "import datetime\n",
    "\n",
    "def get_weekday(date_str):\n",
    "    year, month, day = [int(item) for item in date_str.split('-')]\n",
    "    return datetime.datetime(year, month, day).weekday()"
   ]
  },
  {
   "cell_type": "code",
   "execution_count": 54,
   "metadata": {},
   "outputs": [],
   "source": [
    "import numpy as np\n",
    "import matplotlib.pyplot as plt\n",
    "from keras.utils.np_utils import to_categorical\n",
    "from sklearn.preprocessing import LabelEncoder\n",
    "\n",
    "def get_categorical(column):\n",
    "    le = LabelEncoder()\n",
    "    le.fit(column)\n",
    "    labeled_column = le.transform(column)\n",
    "    return to_categorical(labeled_column).T\n",
    "\n",
    "def get_input_data(df):\n",
    "    ages = get_categorical([(get_year(contact) - get_year(birth)) // 10 for contact, birth in\n",
    "                     zip(df['contact_date'], df['birth_date'])])\n",
    "    \n",
    "    jobs = get_categorical(df['job'])\n",
    "    education = get_categorical(df['education'])\n",
    "    marital = get_categorical(df['marital'])\n",
    "    loan = get_categorical(df['loan'])\n",
    "    default = get_categorical(df['default'])\n",
    "    housing = get_categorical(df['housing'])\n",
    "    contact_years = [get_year(contact) - 2008 for contact in df['contact_date']]\n",
    "    contact_months = get_categorical([get_month(contact) for contact in df['contact_date']])\n",
    "    contact = get_categorical(contact_years)\n",
    "    poutcome = get_categorical(df['poutcome'])\n",
    "    campaign = get_categorical(df['campaign'])\n",
    "    previous = np.array([df['previous']])\n",
    "    contact_type = np.array([df['contact'] == 'cellular'])\n",
    "    pdays = np.array([np.array(df['pdays'].isin(range(3)), dtype=int), \n",
    "                      np.array(df['pdays'].isin (range(3, 6)), dtype=int), \n",
    "                      np.array(df['pdays'].isin (range(6, 10)), dtype=int),\n",
    "                      np.array(df['pdays'].isin (range(10, 28)), dtype=int),\n",
    "                      np.array(df['pdays'] == 999, dtype=int)])\n",
    "    \n",
    "    new_len = pdays.shape[0] * poutcome.shape[0]\n",
    "    days_outcome = np.empty((new_len, pdays.shape[1]))\n",
    "    for i in range(pdays.shape[0]):\n",
    "        for j in range(poutcome.shape[0]):\n",
    "            days_outcome[i * poutcome.shape[0] + j] = pdays[i] * poutcome[j]    \n",
    "        \n",
    "    contact_weekday = get_categorical(np.array(df['contact_date'].map(get_weekday)))\n",
    "    contact_combined_year_month = get_categorical(df['contact_date'].map(get_year_and_month))\n",
    "    return np.concatenate([ages, jobs, education, marital, default, contact, poutcome,\n",
    "                           campaign, previous, contact_type, pdays,\n",
    "                          #np.array([df['previous'] - df['campaign']]),\n",
    "                        #np.array([df['previous'] + df['campaign']]),\n",
    "                        #np.array([df['previous'] / df['campaign']]),\n",
    "                        contact_months,\n",
    "                        contact_weekday,\n",
    "                           contact_combined_year_month,\n",
    "                           #days_outcome\n",
    "                          ], axis=0).T, np.array(df['y'])"
   ]
  },
  {
   "cell_type": "code",
   "execution_count": 55,
   "metadata": {},
   "outputs": [
    {
     "data": {
      "text/html": [
       "<div>\n",
       "<style>\n",
       "    .dataframe thead tr:only-child th {\n",
       "        text-align: right;\n",
       "    }\n",
       "\n",
       "    .dataframe thead th {\n",
       "        text-align: left;\n",
       "    }\n",
       "\n",
       "    .dataframe tbody tr th {\n",
       "        vertical-align: top;\n",
       "    }\n",
       "</style>\n",
       "<table border=\"1\" class=\"dataframe\">\n",
       "  <thead>\n",
       "    <tr style=\"text-align: right;\">\n",
       "      <th></th>\n",
       "      <th>id</th>\n",
       "    </tr>\n",
       "    <tr>\n",
       "      <th>pdays</th>\n",
       "      <th></th>\n",
       "    </tr>\n",
       "  </thead>\n",
       "  <tbody>\n",
       "    <tr>\n",
       "      <th>0</th>\n",
       "      <td>7</td>\n",
       "    </tr>\n",
       "    <tr>\n",
       "      <th>1</th>\n",
       "      <td>10</td>\n",
       "    </tr>\n",
       "    <tr>\n",
       "      <th>2</th>\n",
       "      <td>30</td>\n",
       "    </tr>\n",
       "    <tr>\n",
       "      <th>3</th>\n",
       "      <td>214</td>\n",
       "    </tr>\n",
       "    <tr>\n",
       "      <th>4</th>\n",
       "      <td>54</td>\n",
       "    </tr>\n",
       "    <tr>\n",
       "      <th>5</th>\n",
       "      <td>21</td>\n",
       "    </tr>\n",
       "    <tr>\n",
       "      <th>6</th>\n",
       "      <td>216</td>\n",
       "    </tr>\n",
       "    <tr>\n",
       "      <th>7</th>\n",
       "      <td>26</td>\n",
       "    </tr>\n",
       "    <tr>\n",
       "      <th>8</th>\n",
       "      <td>10</td>\n",
       "    </tr>\n",
       "    <tr>\n",
       "      <th>9</th>\n",
       "      <td>35</td>\n",
       "    </tr>\n",
       "    <tr>\n",
       "      <th>10</th>\n",
       "      <td>21</td>\n",
       "    </tr>\n",
       "    <tr>\n",
       "      <th>11</th>\n",
       "      <td>16</td>\n",
       "    </tr>\n",
       "    <tr>\n",
       "      <th>12</th>\n",
       "      <td>30</td>\n",
       "    </tr>\n",
       "    <tr>\n",
       "      <th>13</th>\n",
       "      <td>21</td>\n",
       "    </tr>\n",
       "    <tr>\n",
       "      <th>14</th>\n",
       "      <td>13</td>\n",
       "    </tr>\n",
       "    <tr>\n",
       "      <th>15</th>\n",
       "      <td>9</td>\n",
       "    </tr>\n",
       "    <tr>\n",
       "      <th>16</th>\n",
       "      <td>6</td>\n",
       "    </tr>\n",
       "    <tr>\n",
       "      <th>17</th>\n",
       "      <td>6</td>\n",
       "    </tr>\n",
       "    <tr>\n",
       "      <th>18</th>\n",
       "      <td>6</td>\n",
       "    </tr>\n",
       "    <tr>\n",
       "      <th>21</th>\n",
       "      <td>1</td>\n",
       "    </tr>\n",
       "    <tr>\n",
       "      <th>22</th>\n",
       "      <td>2</td>\n",
       "    </tr>\n",
       "    <tr>\n",
       "      <th>25</th>\n",
       "      <td>1</td>\n",
       "    </tr>\n",
       "    <tr>\n",
       "      <th>26</th>\n",
       "      <td>1</td>\n",
       "    </tr>\n",
       "    <tr>\n",
       "      <th>999</th>\n",
       "      <td>20043</td>\n",
       "    </tr>\n",
       "  </tbody>\n",
       "</table>\n",
       "</div>"
      ],
      "text/plain": [
       "          id\n",
       "pdays       \n",
       "0          7\n",
       "1         10\n",
       "2         30\n",
       "3        214\n",
       "4         54\n",
       "5         21\n",
       "6        216\n",
       "7         26\n",
       "8         10\n",
       "9         35\n",
       "10        21\n",
       "11        16\n",
       "12        30\n",
       "13        21\n",
       "14        13\n",
       "15         9\n",
       "16         6\n",
       "17         6\n",
       "18         6\n",
       "21         1\n",
       "22         2\n",
       "25         1\n",
       "26         1\n",
       "999    20043"
      ]
     },
     "execution_count": 55,
     "metadata": {},
     "output_type": "execute_result"
    }
   ],
   "source": [
    "train_df.get(['id', 'pdays']).groupby(['pdays']).count()\n"
   ]
  },
  {
   "cell_type": "code",
   "execution_count": 56,
   "metadata": {},
   "outputs": [
    {
     "name": "stdout",
     "output_type": "stream",
     "text": [
      "[[ 0.  0.  0. ...,  0.  0.  0.]\n",
      " [ 0.  0.  0. ...,  0.  0.  0.]\n",
      " [ 0.  0.  0. ...,  0.  0.  0.]\n",
      " ..., \n",
      " [ 0.  0.  0. ...,  0.  0.  0.]\n",
      " [ 0.  0.  0. ...,  0.  0.  0.]\n",
      " [ 0.  0.  1. ...,  0.  0.  0.]] [0 0 0 ..., 0 0 0]\n"
     ]
    }
   ],
   "source": [
    "from sklearn.ensemble import RandomForestClassifier, AdaBoostClassifier, ExtraTreesClassifier, GradientBoostingClassifier\n",
    "from sklearn.tree import DecisionTreeClassifier\n",
    "from sklearn.ensemble import BaggingClassifier\n",
    "from sklearn.svm import SVC\n",
    "from sklearn.feature_selection import RFECV \n",
    "from xgboost import XGBClassifier\n",
    "from sklearn.linear_model import LogisticRegression\n",
    "\n",
    "\n",
    "base = LogisticRegression(C=0.8) \n",
    "classifier = XGBClassifier(n_estimators=30, subsample=1.0, scale_pos_weight=1.)\n",
    "#classifier = SVC(class_weight='balanced', probability=True, verbose=2, random_state=42, kernel='linear')\n",
    "#classifier = AdaBoostClassifier(base_estimator=base)\n",
    "X, y = get_input_data(train_df)\n",
    "print(X, y)"
   ]
  },
  {
   "cell_type": "code",
   "execution_count": 57,
   "metadata": {},
   "outputs": [],
   "source": [
    "from sklearn.preprocessing import StandardScaler\n",
    "X = StandardScaler().fit_transform(X, y)"
   ]
  },
  {
   "cell_type": "code",
   "execution_count": 58,
   "metadata": {},
   "outputs": [],
   "source": [
    "#from sklearn.feature_selection import SelectPercentile\n",
    "#X = SelectPercentile(percentile=80).fit_transform(X, y)"
   ]
  },
  {
   "cell_type": "code",
   "execution_count": 59,
   "metadata": {},
   "outputs": [],
   "source": [
    "from sklearn.model_selection import GridSearchCV\n",
    "#parameters = {'n_estimators': [30, 50, 100], 'scale_pos_weight': [0.1, 0.3, 1., 2., 5.], \n",
    "#              'learning_rate': [0.08, 0.1, 0.12], 'subsample': [0.7, 0.9, 1.0]}\n",
    "parameters = {}\n",
    "parameters = {'n_estimators': [30], 'subsample': [0.9], 'learning_rate': [0.12], 'scale_pos_weight': [2.0]}\n",
    "grid_classifier = GridSearchCV(classifier, parameters, scoring='roc_auc', cv=10, n_jobs=1, verbose=10)"
   ]
  },
  {
   "cell_type": "code",
   "execution_count": 60,
   "metadata": {},
   "outputs": [
    {
     "name": "stdout",
     "output_type": "stream",
     "text": [
      "Fitting 10 folds for each of 1 candidates, totalling 10 fits\n",
      "[CV] learning_rate=0.12, n_estimators=30, scale_pos_weight=2.0, subsample=0.9 \n",
      "[CV]  learning_rate=0.12, n_estimators=30, scale_pos_weight=2.0, subsample=0.9, score=0.774822306772872, total=   0.5s\n",
      "[CV] learning_rate=0.12, n_estimators=30, scale_pos_weight=2.0, subsample=0.9 \n"
     ]
    },
    {
     "name": "stderr",
     "output_type": "stream",
     "text": [
      "[Parallel(n_jobs=1)]: Done   1 out of   1 | elapsed:    0.6s remaining:    0.0s\n"
     ]
    },
    {
     "name": "stdout",
     "output_type": "stream",
     "text": [
      "[CV]  learning_rate=0.12, n_estimators=30, scale_pos_weight=2.0, subsample=0.9, score=0.7763688537304172, total=   0.6s\n",
      "[CV] learning_rate=0.12, n_estimators=30, scale_pos_weight=2.0, subsample=0.9 \n"
     ]
    },
    {
     "name": "stderr",
     "output_type": "stream",
     "text": [
      "[Parallel(n_jobs=1)]: Done   2 out of   2 | elapsed:    1.2s remaining:    0.0s\n"
     ]
    },
    {
     "name": "stdout",
     "output_type": "stream",
     "text": [
      "[CV]  learning_rate=0.12, n_estimators=30, scale_pos_weight=2.0, subsample=0.9, score=0.8058444876321864, total=   0.6s\n",
      "[CV] learning_rate=0.12, n_estimators=30, scale_pos_weight=2.0, subsample=0.9 \n"
     ]
    },
    {
     "name": "stderr",
     "output_type": "stream",
     "text": [
      "[Parallel(n_jobs=1)]: Done   3 out of   3 | elapsed:    1.8s remaining:    0.0s\n"
     ]
    },
    {
     "name": "stdout",
     "output_type": "stream",
     "text": [
      "[CV]  learning_rate=0.12, n_estimators=30, scale_pos_weight=2.0, subsample=0.9, score=0.804539731201927, total=   0.6s\n",
      "[CV] learning_rate=0.12, n_estimators=30, scale_pos_weight=2.0, subsample=0.9 \n"
     ]
    },
    {
     "name": "stderr",
     "output_type": "stream",
     "text": [
      "[Parallel(n_jobs=1)]: Done   4 out of   4 | elapsed:    2.4s remaining:    0.0s\n"
     ]
    },
    {
     "name": "stdout",
     "output_type": "stream",
     "text": [
      "[CV]  learning_rate=0.12, n_estimators=30, scale_pos_weight=2.0, subsample=0.9, score=0.770338917325888, total=   0.5s\n",
      "[CV] learning_rate=0.12, n_estimators=30, scale_pos_weight=2.0, subsample=0.9 \n"
     ]
    },
    {
     "name": "stderr",
     "output_type": "stream",
     "text": [
      "[Parallel(n_jobs=1)]: Done   5 out of   5 | elapsed:    3.0s remaining:    0.0s\n"
     ]
    },
    {
     "name": "stdout",
     "output_type": "stream",
     "text": [
      "[CV]  learning_rate=0.12, n_estimators=30, scale_pos_weight=2.0, subsample=0.9, score=0.7835689650453015, total=   0.6s\n",
      "[CV] learning_rate=0.12, n_estimators=30, scale_pos_weight=2.0, subsample=0.9 \n"
     ]
    },
    {
     "name": "stderr",
     "output_type": "stream",
     "text": [
      "[Parallel(n_jobs=1)]: Done   6 out of   6 | elapsed:    3.6s remaining:    0.0s\n"
     ]
    },
    {
     "name": "stdout",
     "output_type": "stream",
     "text": [
      "[CV]  learning_rate=0.12, n_estimators=30, scale_pos_weight=2.0, subsample=0.9, score=0.7835233441910967, total=   0.6s\n",
      "[CV] learning_rate=0.12, n_estimators=30, scale_pos_weight=2.0, subsample=0.9 \n"
     ]
    },
    {
     "name": "stderr",
     "output_type": "stream",
     "text": [
      "[Parallel(n_jobs=1)]: Done   7 out of   7 | elapsed:    4.2s remaining:    0.0s\n"
     ]
    },
    {
     "name": "stdout",
     "output_type": "stream",
     "text": [
      "[CV]  learning_rate=0.12, n_estimators=30, scale_pos_weight=2.0, subsample=0.9, score=0.8203747296964388, total=   0.6s\n",
      "[CV] learning_rate=0.12, n_estimators=30, scale_pos_weight=2.0, subsample=0.9 \n"
     ]
    },
    {
     "name": "stderr",
     "output_type": "stream",
     "text": [
      "[Parallel(n_jobs=1)]: Done   8 out of   8 | elapsed:    4.8s remaining:    0.0s\n"
     ]
    },
    {
     "name": "stdout",
     "output_type": "stream",
     "text": [
      "[CV]  learning_rate=0.12, n_estimators=30, scale_pos_weight=2.0, subsample=0.9, score=0.8150815700873184, total=   0.6s\n",
      "[CV] learning_rate=0.12, n_estimators=30, scale_pos_weight=2.0, subsample=0.9 \n"
     ]
    },
    {
     "name": "stderr",
     "output_type": "stream",
     "text": [
      "[Parallel(n_jobs=1)]: Done   9 out of   9 | elapsed:    5.5s remaining:    0.0s\n"
     ]
    },
    {
     "name": "stdout",
     "output_type": "stream",
     "text": [
      "[CV]  learning_rate=0.12, n_estimators=30, scale_pos_weight=2.0, subsample=0.9, score=0.7677938095390248, total=   0.6s\n"
     ]
    },
    {
     "name": "stderr",
     "output_type": "stream",
     "text": [
      "[Parallel(n_jobs=1)]: Done  10 out of  10 | elapsed:    6.1s finished\n"
     ]
    },
    {
     "data": {
      "text/plain": [
       "GridSearchCV(cv=10, error_score='raise',\n",
       "       estimator=XGBClassifier(base_score=0.5, colsample_bylevel=1, colsample_bytree=1,\n",
       "       gamma=0, learning_rate=0.1, max_delta_step=0, max_depth=3,\n",
       "       min_child_weight=1, missing=None, n_estimators=30, nthread=-1,\n",
       "       objective='binary:logistic', reg_alpha=0, reg_lambda=1,\n",
       "       scale_pos_weight=1.0, seed=0, silent=True, subsample=1.0),\n",
       "       fit_params=None, iid=True, n_jobs=1,\n",
       "       param_grid={'learning_rate': [0.12], 'n_estimators': [30], 'scale_pos_weight': [2.0], 'subsample': [0.9]},\n",
       "       pre_dispatch='2*n_jobs', refit=True, return_train_score='warn',\n",
       "       scoring='roc_auc', verbose=10)"
      ]
     },
     "execution_count": 60,
     "metadata": {},
     "output_type": "execute_result"
    }
   ],
   "source": [
    "from sklearn.model_selection import cross_val_score\n",
    "from sklearn.metrics import roc_auc_score, make_scorer, accuracy_score\n",
    "grid_classifier.fit(X, y)"
   ]
  },
  {
   "cell_type": "code",
   "execution_count": 61,
   "metadata": {},
   "outputs": [
    {
     "name": "stdout",
     "output_type": "stream",
     "text": [
      "0.790226750029 {'learning_rate': 0.12, 'n_estimators': 30, 'scale_pos_weight': 2.0, 'subsample': 0.9}\n"
     ]
    }
   ],
   "source": [
    "print(grid_classifier.best_score_, grid_classifier.best_params_)\n",
    "best_classifier = grid_classifier.best_estimator_"
   ]
  },
  {
   "cell_type": "code",
   "execution_count": 59,
   "metadata": {},
   "outputs": [
    {
     "data": {
      "text/plain": [
       "XGBClassifier(base_score=0.5, colsample_bylevel=1, colsample_bytree=1,\n",
       "       gamma=0, learning_rate=0.12, max_delta_step=0, max_depth=3,\n",
       "       min_child_weight=1, missing=None, n_estimators=30, nthread=-1,\n",
       "       objective='binary:logistic', reg_alpha=0, reg_lambda=1,\n",
       "       scale_pos_weight=2.0, seed=0, silent=True, subsample=0.9)"
      ]
     },
     "execution_count": 59,
     "metadata": {},
     "output_type": "execute_result"
    }
   ],
   "source": [
    "best_classifier.fit(X, y)"
   ]
  },
  {
   "cell_type": "code",
   "execution_count": 60,
   "metadata": {},
   "outputs": [
    {
     "data": {
      "text/plain": [
       "array([ 0.        ,  0.00478469,  0.        ,  0.02870813,  0.00478469,\n",
       "        0.00478469,  0.01435407,  0.        ,  0.        ,  0.02392345,\n",
       "        0.01913876,  0.00478469,  0.        ,  0.        ,  0.00478469,\n",
       "        0.        ,  0.00478469,  0.00478469,  0.        ,  0.        ,\n",
       "        0.01435407,  0.        ,  0.        ,  0.        ,  0.        ,\n",
       "        0.00956938,  0.        ,  0.01435407,  0.00478469,  0.01435407,\n",
       "        0.00956938,  0.00956938,  0.        ,  0.        ,  0.10047847,\n",
       "        0.01913876,  0.02392345,  0.03349282,  0.00478469,  0.01913876,\n",
       "        0.        ,  0.        ,  0.00478469,  0.00478469,  0.00956938,\n",
       "        0.00478469,  0.        ,  0.        ,  0.        ,  0.        ,\n",
       "        0.        ,  0.00478469,  0.        ,  0.        ,  0.        ,\n",
       "        0.        ,  0.        ,  0.        ,  0.        ,  0.        ,\n",
       "        0.        ,  0.        ,  0.        ,  0.        ,  0.        ,\n",
       "        0.        ,  0.        ,  0.        ,  0.        ,  0.        ,\n",
       "        0.        ,  0.        ,  0.        ,  0.        ,  0.        ,\n",
       "        0.        ,  0.        ,  0.        ,  0.        ,  0.00478469,\n",
       "        0.07655502,  0.        ,  0.00478469,  0.        ,  0.00478469,\n",
       "        0.07177033,  0.01913876,  0.00478469,  0.05263158,  0.        ,\n",
       "        0.00478469,  0.        ,  0.        ,  0.07655502,  0.00478469,\n",
       "        0.00478469,  0.02870813,  0.01913876,  0.00956938,  0.        ,\n",
       "        0.01913876,  0.        ,  0.        ,  0.        ,  0.00478469,\n",
       "        0.00478469,  0.        ,  0.        ,  0.        ,  0.02870813,\n",
       "        0.08133971,  0.        ,  0.        ,  0.        ,  0.        ,\n",
       "        0.00956938,  0.        ,  0.00478469,  0.        ,  0.02870813,\n",
       "        0.        ,  0.00478469,  0.        ,  0.        ,  0.        ,\n",
       "        0.        ,  0.        ], dtype=float32)"
      ]
     },
     "execution_count": 60,
     "metadata": {},
     "output_type": "execute_result"
    }
   ],
   "source": [
    "best_classifier.feature_importances_"
   ]
  },
  {
   "cell_type": "code",
   "execution_count": 61,
   "metadata": {},
   "outputs": [],
   "source": [
    "from pandas import DataFrame\n",
    "\n",
    "def return_submission(classifier, path, test_df):\n",
    "    X_test, _ = get_input_data(test_df)\n",
    "    predictions = classifier.predict_proba(X_test)\n",
    "    results_pd = DataFrame({'id': test_df['id'], 'y': predictions[::, 1]})\n",
    "    results_pd = results_pd.sort_values('id')\n",
    "    results_pd.to_csv(path, index=False)\n",
    "\n",
    "return_submission(best_classifier, 'my_submission.csv', test_df)"
   ]
  },
  {
   "cell_type": "code",
   "execution_count": 62,
   "metadata": {},
   "outputs": [
    {
     "name": "stdout",
     "output_type": "stream",
     "text": [
      "id,y\n",
      "2,0.07659514248371124\n",
      "4,0.07659514248371124\n",
      "5,0.07659514248371124\n",
      "7,0.07659514248371124\n",
      "10,0.07659514248371124\n",
      "12,0.07659514248371124\n",
      "14,0.07659514248371124\n",
      "16,0.07223605364561081\n",
      "18,0.07659514248371124\n",
      "41171,0.516089141368866\n",
      "41172,0.4590745270252228\n",
      "41174,0.5311034917831421\n",
      "41175,0.8450337648391724\n",
      "41178,0.6457563638687134\n",
      "41180,0.6594027280807495\n",
      "41181,0.6457563638687134\n",
      "41184,0.6457563638687134\n",
      "41185,0.6199942827224731\n",
      "41187,0.6457563638687134\n"
     ]
    }
   ],
   "source": [
    "!head my_submission.csv\n",
    "!tail my_submission.csv"
   ]
  }
 ],
 "metadata": {
  "kernelspec": {
   "display_name": "Python 3",
   "language": "python",
   "name": "python3"
  },
  "language_info": {
   "codemirror_mode": {
    "name": "ipython",
    "version": 3
   },
   "file_extension": ".py",
   "mimetype": "text/x-python",
   "name": "python",
   "nbconvert_exporter": "python",
   "pygments_lexer": "ipython3",
   "version": "3.5.2"
  }
 },
 "nbformat": 4,
 "nbformat_minor": 2
}
