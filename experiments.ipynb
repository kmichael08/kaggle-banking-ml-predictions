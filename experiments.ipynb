{
 "cells": [
  {
   "cell_type": "markdown",
   "metadata": {},
   "source": [
    "# 1. Processing data"
   ]
  },
  {
   "cell_type": "code",
   "execution_count": 1,
   "metadata": {},
   "outputs": [
    {
     "name": "stdout",
     "output_type": "stream",
     "text": [
      "bank-classification.csv  mnist_cnn.ipynb    requirements.txt\r\n",
      "experiments.ipynb\t my_submission.csv  sample_submission.csv\r\n",
      "instructions.txt\t README.md\t    setup.sh\r\n"
     ]
    }
   ],
   "source": [
    "!ls"
   ]
  },
  {
   "cell_type": "code",
   "execution_count": 2,
   "metadata": {},
   "outputs": [
    {
     "name": "stdout",
     "output_type": "stream",
     "text": [
      "id,y\r\n",
      "2,0.114428578297\r\n",
      "4,0.114428578297\r\n",
      "5,0.114428578297\r\n",
      "7,0.114428578297\r\n",
      "10,0.114428578297\r\n",
      "12,0.114428578297\r\n",
      "14,0.114428578297\r\n",
      "16,0.114428578297\r\n",
      "18,0.114428578297\r\n"
     ]
    }
   ],
   "source": [
    "!head sample_submission.csv"
   ]
  },
  {
   "cell_type": "code",
   "execution_count": 3,
   "metadata": {},
   "outputs": [
    {
     "name": "stdout",
     "output_type": "stream",
     "text": [
      "          id  birth_date          job  marital    education  default housing  \\\n",
      "32884  32885  1952-07-15   technician  married  high.school       no      no   \n",
      "3169    3170  1953-06-30      unknown  married      unknown  unknown     yes   \n",
      "32206  32207  1976-09-12  blue-collar  married     basic.9y       no      no   \n",
      "9403    9404  1972-04-10       admin.  married  high.school       no      no   \n",
      "14020  14021  1981-05-25    housemaid  married  high.school       no     yes   \n",
      "\n",
      "      loan contact_date    contact  campaign  pdays  previous     poutcome  \\\n",
      "32884  yes   2009-05-04   cellular         1    999         1      failure   \n",
      "3169    no   2008-05-08  telephone         2    999         0  nonexistent   \n",
      "32206   no   2009-05-08   cellular         1    999         1      failure   \n",
      "9403    no   2008-06-27  telephone         4    999         0  nonexistent   \n",
      "14020   no   2008-07-25   cellular         2    999         0  nonexistent   \n",
      "\n",
      "             y  \n",
      "32884  unknown  \n",
      "3169   unknown  \n",
      "32206       no  \n",
      "9403        no  \n",
      "14020  unknown  \n"
     ]
    }
   ],
   "source": [
    "import pandas as pd\n",
    "df = pd.read_csv('bank-classification.csv')\n",
    "# It's important to shuffle the data\n",
    "df = df.sample(frac=1, replace=False, random_state=42)\n",
    "print(df[:5])"
   ]
  },
  {
   "cell_type": "markdown",
   "metadata": {},
   "source": [
    "### Let's split training and test sets."
   ]
  },
  {
   "cell_type": "code",
   "execution_count": 4,
   "metadata": {},
   "outputs": [],
   "source": [
    "train_df = df.loc[df['y'] != 'unknown']\n",
    "test_df = df.loc[df['y'] == 'unknown']"
   ]
  },
  {
   "cell_type": "code",
   "execution_count": 5,
   "metadata": {},
   "outputs": [
    {
     "name": "stderr",
     "output_type": "stream",
     "text": [
      "/home/michal/Pulpit/jnp_ml/mlenv/lib/python3.5/site-packages/pandas/core/indexing.py:517: SettingWithCopyWarning: \n",
      "A value is trying to be set on a copy of a slice from a DataFrame.\n",
      "Try using .loc[row_indexer,col_indexer] = value instead\n",
      "\n",
      "See the caveats in the documentation: http://pandas.pydata.org/pandas-docs/stable/indexing.html#indexing-view-versus-copy\n",
      "  self.obj[item] = s\n"
     ]
    }
   ],
   "source": [
    "train_df.loc[:, 'y'] = train_df.loc[:, 'y'].map({'no': 0, 'yes': 1})"
   ]
  },
  {
   "cell_type": "markdown",
   "metadata": {},
   "source": [
    "#### Let's make sure it works despite warning"
   ]
  },
  {
   "cell_type": "code",
   "execution_count": 6,
   "metadata": {},
   "outputs": [
    {
     "data": {
      "text/plain": [
       "32206    0\n",
       "9403     0\n",
       "17201    0\n",
       "23757    0\n",
       "16735    0\n",
       "Name: y, dtype: int64"
      ]
     },
     "execution_count": 6,
     "metadata": {},
     "output_type": "execute_result"
    }
   ],
   "source": [
    "train_df['y'][:5]"
   ]
  },
  {
   "cell_type": "markdown",
   "metadata": {},
   "source": [
    "# 2. Features analysis"
   ]
  },
  {
   "cell_type": "markdown",
   "metadata": {},
   "source": [
    "### Let's examine the proportion of yes/no labels in training set"
   ]
  },
  {
   "cell_type": "code",
   "execution_count": 7,
   "metadata": {},
   "outputs": [
    {
     "data": {
      "text/plain": [
       "0    18419\n",
       "1     2380\n",
       "Name: y, dtype: int64"
      ]
     },
     "execution_count": 7,
     "metadata": {},
     "output_type": "execute_result"
    }
   ],
   "source": [
    "pd.value_counts(train_df.y)"
   ]
  },
  {
   "cell_type": "code",
   "execution_count": 8,
   "metadata": {},
   "outputs": [],
   "source": [
    "def get_year(date):\n",
    "    year_str = date[:4]\n",
    "    year = int(year_str)\n",
    "    return year\n",
    "\n",
    "def get_month(date):\n",
    "    month_str = date[5:7]\n",
    "    month = int(month_str)\n",
    "    return month\n",
    "\n",
    "def get_year_and_month(date):\n",
    "    return get_year(date), get_month(date)\n",
    "\n",
    "import datetime\n",
    "\n",
    "def get_weekday(date_str):\n",
    "    year, month, day = [int(item) for item in date_str.split('-')]\n",
    "    return datetime.datetime(year, month, day).weekday()"
   ]
  },
  {
   "cell_type": "markdown",
   "metadata": {},
   "source": [
    "### Dates analysis"
   ]
  },
  {
   "cell_type": "code",
   "execution_count": 9,
   "metadata": {},
   "outputs": [],
   "source": [
    "months = train_df['contact_date'].map(get_month)\n",
    "years = train_df['contact_date'].map(get_year)\n",
    "weekday = train_df['contact_date'].map(get_weekday)\n",
    "year_month = train_df['contact_date'].map(get_year_and_month)\n",
    "birth = train_df['birth_date'].map(get_year)\n",
    "ages = years - birth\n",
    "\n",
    "date_df = pd.DataFrame({\n",
    "    'months' : months,\n",
    "    'years' : years,\n",
    "    'weekday': weekday,\n",
    "    'ages': ages,\n",
    "    'year_month': year_month,\n",
    "    'y': train_df['y']\n",
    "})"
   ]
  },
  {
   "cell_type": "code",
   "execution_count": 10,
   "metadata": {},
   "outputs": [
    {
     "name": "stdout",
     "output_type": "stream",
     "text": [
      "       ages  months  weekday  y year_month  years\n",
      "32206    33       5        4  0  (2009, 5)   2009\n",
      "9403     36       6        4  0  (2008, 6)   2008\n",
      "17201    58       7        4  0  (2008, 7)   2008\n",
      "23757    51       8        3  0  (2008, 8)   2008\n",
      "16735    58       7        3  0  (2008, 7)   2008\n"
     ]
    }
   ],
   "source": [
    "print(date_df[:5])"
   ]
  },
  {
   "cell_type": "markdown",
   "metadata": {},
   "source": [
    "### Months and years vary in terms of number of calls and succesful contacts. Let's add feature (month, year) as well."
   ]
  },
  {
   "cell_type": "code",
   "execution_count": 11,
   "metadata": {},
   "outputs": [
    {
     "data": {
      "image/png": "[encoded data removed]",
      "text/plain": [
       "<matplotlib.figure.Figure at 0x7f44c5130e80>"
      ]
     },
     "metadata": {},
     "output_type": "display_data"
    },
    {
     "data": {
      "image/png": "[encoded data removed]",
      "text/plain": [
       "<matplotlib.figure.Figure at 0x7f44c0228b00>"
      ]
     },
     "metadata": {},
     "output_type": "display_data"
    }
   ],
   "source": [
    "import matplotlib.pyplot as plt\n",
    "months = date_df.get(['y', 'months']).groupby(['months']).mean()\n",
    "months.plot(kind='bar', figsize=(15, 4))\n",
    "plt.show()\n",
    "pd.value_counts(date_df.months).plot(kind='bar', figsize=(15, 5))\n",
    "plt.show()"
   ]
  },
  {
   "cell_type": "code",
   "execution_count": 12,
   "metadata": {},
   "outputs": [
    {
     "data": {
      "image/png": "[encoded data removed]",
      "text/plain": [
       "<matplotlib.figure.Figure at 0x7f44c022c4e0>"
      ]
     },
     "metadata": {},
     "output_type": "display_data"
    },
    {
     "data": {
      "image/png": "[encoded data removed]",
      "text/plain": [
       "<matplotlib.figure.Figure at 0x7f44c01739e8>"
      ]
     },
     "metadata": {},
     "output_type": "display_data"
    }
   ],
   "source": [
    "months = date_df.get(['y', 'years']).groupby(['years']).mean()\n",
    "months.plot(kind='bar', figsize=(15, 4))\n",
    "plt.show()\n",
    "pd.value_counts(date_df.years).plot(kind='bar', figsize=(15, 5))\n",
    "plt.show()"
   ]
  },
  {
   "cell_type": "code",
   "execution_count": 13,
   "metadata": {},
   "outputs": [
    {
     "data": {
      "image/png": "[encoded data removed]",
      "text/plain": [
       "<matplotlib.figure.Figure at 0x7f44c0110588>"
      ]
     },
     "metadata": {},
     "output_type": "display_data"
    },
    {
     "data": {
      "image/png": "[encoded data removed]",
      "text/plain": [
       "<matplotlib.figure.Figure at 0x7f44c01213c8>"
      ]
     },
     "metadata": {},
     "output_type": "display_data"
    }
   ],
   "source": [
    "months = date_df.get(['y', 'year_month']).groupby(['year_month']).mean()\n",
    "months.plot(kind='bar', figsize=(15, 4))\n",
    "plt.show()\n",
    "pd.value_counts(date_df.year_month).plot(kind='bar', figsize=(15, 5))\n",
    "plt.show()"
   ]
  },
  {
   "cell_type": "markdown",
   "metadata": {},
   "source": [
    "### Apparently calls in the middle of the week are a bit more succesful "
   ]
  },
  {
   "cell_type": "code",
   "execution_count": 14,
   "metadata": {},
   "outputs": [
    {
     "name": "stdout",
     "output_type": "stream",
     "text": [
      "                y\n",
      "weekday          \n",
      "0        0.098438\n",
      "1        0.110037\n",
      "2        0.123719\n",
      "3        0.126951\n",
      "4        0.112365\n"
     ]
    },
    {
     "data": {
      "image/png": "[encoded data removed]",
      "text/plain": [
       "<matplotlib.figure.Figure at 0x7f44c0117908>"
      ]
     },
     "metadata": {},
     "output_type": "display_data"
    }
   ],
   "source": [
    "months = date_df.get(['y', 'weekday']).groupby(['weekday']).mean()\n",
    "print(months)\n",
    "pd.value_counts(date_df.weekday).plot(kind='bar', figsize=(15, 5))\n",
    "plt.show()"
   ]
  },
  {
   "cell_type": "markdown",
   "metadata": {},
   "source": [
    "### Let's divide age into groups"
   ]
  },
  {
   "cell_type": "code",
   "execution_count": 15,
   "metadata": {},
   "outputs": [
    {
     "data": {
      "image/png": "[encoded data removed]",
      "text/plain": [
       "<matplotlib.figure.Figure at 0x7f44c00d9dd8>"
      ]
     },
     "metadata": {},
     "output_type": "display_data"
    }
   ],
   "source": [
    "pd.value_counts(date_df.ages, sort=True).plot(kind='bar', figsize=(15, 5))\n",
    "plt.show()"
   ]
  },
  {
   "cell_type": "code",
   "execution_count": 16,
   "metadata": {},
   "outputs": [
    {
     "data": {
      "image/png": "[encoded data removed]",
      "text/plain": [
       "<matplotlib.figure.Figure at 0x7f44bffda978>"
      ]
     },
     "metadata": {},
     "output_type": "display_data"
    }
   ],
   "source": [
    "age_means = date_df.get(['y', 'ages']).groupby(['ages']).mean()\n",
    "age_means.plot(kind='bar', figsize=(15, 5))\n",
    "plt.show()"
   ]
  },
  {
   "cell_type": "markdown",
   "metadata": {},
   "source": [
    "### Let's look at the job distribution and the probabilities."
   ]
  },
  {
   "cell_type": "code",
   "execution_count": 17,
   "metadata": {},
   "outputs": [
    {
     "data": {
      "image/png": "[encoded data removed]",
      "text/plain": [
       "<matplotlib.figure.Figure at 0x7f44bfef68d0>"
      ]
     },
     "metadata": {},
     "output_type": "display_data"
    }
   ],
   "source": [
    "pd.crosstab(train_df.education, train_df.y).plot(kind='bar', figsize=(14, 6))\n",
    "plt.title('Clients with deposits depending on the education')\n",
    "plt.xlabel('Education')\n",
    "plt.ylabel('Number of clients')\n",
    "plt.show()"
   ]
  },
  {
   "cell_type": "markdown",
   "metadata": {},
   "source": [
    "### Let's check if the distributions are equal on train and test sets"
   ]
  },
  {
   "cell_type": "code",
   "execution_count": 18,
   "metadata": {},
   "outputs": [
    {
     "data": {
      "image/png": "[encoded data removed]",
      "text/plain": [
       "<matplotlib.figure.Figure at 0x7f44bfe575f8>"
      ]
     },
     "metadata": {},
     "output_type": "display_data"
    }
   ],
   "source": [
    "import numpy as np\n",
    "education_test = pd.value_counts(test_df.education) / len(test_df)\n",
    "education_train = pd.value_counts(train_df.education) / len(train_df)\n",
    "plt.figure(figsize=(20, 5))\n",
    "bar_width = 0.35\n",
    "n_groups = len(education_test.keys())\n",
    "index = np.arange(n_groups)\n",
    "plt.bar(index, education_test, bar_width)\n",
    "plt.bar(index + bar_width, education_train, bar_width)\n",
    "plt.xticks(index + bar_width, education_test.keys())\n",
    "plt.show()"
   ]
  },
  {
   "cell_type": "markdown",
   "metadata": {},
   "source": [
    "### Let's examine the medium chance of a deposit subscription regarding the education."
   ]
  },
  {
   "cell_type": "code",
   "execution_count": 19,
   "metadata": {},
   "outputs": [
    {
     "name": "stdout",
     "output_type": "stream",
     "text": [
      "                            y\n",
      "education                    \n",
      "basic.4y             0.109099\n",
      "basic.6y             0.076068\n",
      "basic.9y             0.082891\n",
      "high.school          0.112738\n",
      "illiterate           0.142857\n",
      "professional.course  0.110340\n",
      "university.degree    0.137435\n",
      "unknown              0.145434\n"
     ]
    }
   ],
   "source": [
    "education_means = train_df.get(['education', 'y']).groupby(['education']).mean()\n",
    "print(education_means)"
   ]
  },
  {
   "cell_type": "markdown",
   "metadata": {},
   "source": [
    "### Let's examine the same for profession."
   ]
  },
  {
   "cell_type": "code",
   "execution_count": 20,
   "metadata": {},
   "outputs": [
    {
     "data": {
      "image/png": "[encoded data removed]",
      "text/plain": [
       "<matplotlib.figure.Figure at 0x7f44c01925f8>"
      ]
     },
     "metadata": {},
     "output_type": "display_data"
    }
   ],
   "source": [
    "pd.crosstab(train_df.job, train_df.y).plot(kind='bar', figsize=(15, 7))\n",
    "plt.title('Clients with deposits depending on the job')\n",
    "plt.xlabel('Job')\n",
    "plt.ylabel('Number of clients')\n",
    "plt.show()"
   ]
  },
  {
   "cell_type": "code",
   "execution_count": 21,
   "metadata": {},
   "outputs": [
    {
     "data": {
      "image/png": "[encoded data removed]",
      "text/plain": [
       "<matplotlib.figure.Figure at 0x7f44bfe1ecc0>"
      ]
     },
     "metadata": {},
     "output_type": "display_data"
    }
   ],
   "source": [
    "job_means = train_df.get(['job', 'y']).groupby(['job']).mean()\n",
    "job_means.plot(kind='bar', figsize=(15, 5))\n",
    "plt.show()"
   ]
  },
  {
   "cell_type": "markdown",
   "metadata": {},
   "source": [
    "### Analysis for marital status"
   ]
  },
  {
   "cell_type": "code",
   "execution_count": 22,
   "metadata": {},
   "outputs": [
    {
     "data": {
      "image/png": "[encoded data removed]",
      "text/plain": [
       "<matplotlib.figure.Figure at 0x7f44bfe11978>"
      ]
     },
     "metadata": {},
     "output_type": "display_data"
    },
    {
     "data": {
      "image/png": "[encoded data removed]",
      "text/plain": [
       "<matplotlib.figure.Figure at 0x7f44bfe11668>"
      ]
     },
     "metadata": {},
     "output_type": "display_data"
    }
   ],
   "source": [
    "pd.crosstab(train_df.marital, train_df.y).plot(kind='bar', figsize=(8, 5))\n",
    "plt.title('Clients with deposits depending on the marital status')\n",
    "plt.xlabel('Marital status')\n",
    "plt.ylabel('Number of clients')\n",
    "marital_means = train_df.get(['marital', 'y']).groupby(['marital']).mean()\n",
    "marital_means.plot(kind='bar', figsize=(8, 5))\n",
    "plt.show()"
   ]
  },
  {
   "cell_type": "markdown",
   "metadata": {},
   "source": [
    "### Let's have a look at the number of calls in the previous campaign"
   ]
  },
  {
   "cell_type": "code",
   "execution_count": 23,
   "metadata": {},
   "outputs": [
    {
     "data": {
      "image/png": "[encoded data removed]",
      "text/plain": [
       "<matplotlib.figure.Figure at 0x7f44bfff2278>"
      ]
     },
     "metadata": {},
     "output_type": "display_data"
    },
    {
     "data": {
      "image/png": "[encoded data removed]",
      "text/plain": [
       "<matplotlib.figure.Figure at 0x7f44bfff25f8>"
      ]
     },
     "metadata": {},
     "output_type": "display_data"
    }
   ],
   "source": [
    "previous_mean = train_df.get(['previous', 'y']).groupby(['previous']).mean()\n",
    "pd.crosstab(train_df.previous, train_df.y).plot(kind='bar', figsize=(8, 5))\n",
    "plt.title('Clients with deposits depending on the calls in previous campaign')\n",
    "plt.xlabel('previous contacts')\n",
    "plt.ylabel('Number of clients')\n",
    "previous_means = train_df.get(['previous', 'y']).groupby(['previous']).mean()\n",
    "previous_means.plot(kind='bar', figsize=(8, 5))\n",
    "plt.show()"
   ]
  },
  {
   "cell_type": "markdown",
   "metadata": {},
   "source": [
    "### Outcome of the previous campaign - another important factor"
   ]
  },
  {
   "cell_type": "code",
   "execution_count": 24,
   "metadata": {},
   "outputs": [
    {
     "name": "stdout",
     "output_type": "stream",
     "text": [
      "nonexistent    17983\n",
      "failure         2143\n",
      "success          673\n",
      "Name: poutcome, dtype: int64\n",
      "                    y\n",
      "poutcome             \n",
      "failure      0.151190\n",
      "nonexistent  0.089807\n",
      "success      0.655275\n"
     ]
    }
   ],
   "source": [
    "print(pd.value_counts(train_df.poutcome))\n",
    "print(train_df.get(['poutcome', 'y']).groupby(['poutcome']).mean())"
   ]
  },
  {
   "cell_type": "markdown",
   "metadata": {},
   "source": [
    "### Number of contacts in this campaign - let's divide into bins"
   ]
  },
  {
   "cell_type": "code",
   "execution_count": 25,
   "metadata": {},
   "outputs": [
    {
     "data": {
      "image/png": "[encoded data removed]",
      "text/plain": [
       "<matplotlib.figure.Figure at 0x7f44bfdc5d30>"
      ]
     },
     "metadata": {},
     "output_type": "display_data"
    },
    {
     "data": {
      "image/png": "[encoded data removed]",
      "text/plain": [
       "<matplotlib.figure.Figure at 0x7f44c01acda0>"
      ]
     },
     "metadata": {},
     "output_type": "display_data"
    }
   ],
   "source": [
    "campaing_calls = np.log2(pd.value_counts(train_df.campaign))\n",
    "campaing_calls.plot(kind='bar', figsize=(15, 5))\n",
    "plt.show()\n",
    "calls_mean = train_df.get(['y', 'campaign']).groupby(['campaign']).mean()\n",
    "calls_mean.plot(kind='bar', figsize=(15, 5))\n",
    "plt.show()"
   ]
  },
  {
   "cell_type": "markdown",
   "metadata": {},
   "source": [
    "### Type of contact is significantly correlated with the final decision."
   ]
  },
  {
   "cell_type": "code",
   "execution_count": 26,
   "metadata": {},
   "outputs": [
    {
     "name": "stdout",
     "output_type": "stream",
     "text": [
      "cellular     13212\n",
      "telephone     7587\n",
      "Name: contact, dtype: int64\n",
      "                  y\n",
      "contact            \n",
      "cellular   0.149864\n",
      "telephone  0.052722\n"
     ]
    }
   ],
   "source": [
    "print(pd.value_counts(train_df.contact))\n",
    "print(train_df.get(['y', 'contact']).groupby(['contact']).mean())"
   ]
  },
  {
   "cell_type": "markdown",
   "metadata": {},
   "source": [
    "### Now let's look at loan/housing - no major relation with the result"
   ]
  },
  {
   "cell_type": "code",
   "execution_count": 27,
   "metadata": {},
   "outputs": [
    {
     "name": "stdout",
     "output_type": "stream",
     "text": [
      "                y\n",
      "housing          \n",
      "no       0.109738\n",
      "unknown  0.114286\n",
      "yes      0.118466\n",
      "                y\n",
      "loan             \n",
      "no       0.114531\n",
      "unknown  0.114286\n",
      "yes      0.113900\n"
     ]
    }
   ],
   "source": [
    "print(train_df.get(['housing', 'y']).groupby(['housing']).mean())\n",
    "print(train_df.get(['loan', 'y']).groupby(['loan']).mean())"
   ]
  },
  {
   "cell_type": "markdown",
   "metadata": {},
   "source": [
    "### Information about default is much more relevant "
   ]
  },
  {
   "cell_type": "code",
   "execution_count": 28,
   "metadata": {},
   "outputs": [
    {
     "name": "stdout",
     "output_type": "stream",
     "text": [
      "no         16408\n",
      "unknown     4389\n",
      "yes            2\n",
      "Name: default, dtype: int64\n",
      "                y\n",
      "default          \n",
      "no       0.130607\n",
      "unknown  0.053999\n",
      "yes      0.000000\n"
     ]
    }
   ],
   "source": [
    "print(pd.value_counts(train_df.default))\n",
    "print(train_df.get(['default', 'y']).groupby(['default']).mean())"
   ]
  },
  {
   "cell_type": "markdown",
   "metadata": {},
   "source": [
    "### Number of days that passed by after the client was last contacted from a previous campaign - no significant trend only few groups"
   ]
  },
  {
   "cell_type": "code",
   "execution_count": 29,
   "metadata": {},
   "outputs": [
    {
     "data": {
      "image/png": "[encoded data removed]",
      "text/plain": [
       "<matplotlib.figure.Figure at 0x7f44bfdd2e10>"
      ]
     },
     "metadata": {},
     "output_type": "display_data"
    },
    {
     "data": {
      "image/png": "[encoded data removed]",
      "text/plain": [
       "<matplotlib.figure.Figure at 0x7f44bfd7ea58>"
      ]
     },
     "metadata": {},
     "output_type": "display_data"
    }
   ],
   "source": [
    "previous_days = np.log2(pd.value_counts(train_df.pdays))\n",
    "previous_days.plot(kind='bar', figsize=(15, 5))\n",
    "plt.show()\n",
    "pdays_mean = train_df.get(['y', 'pdays']).groupby(['pdays']).mean()\n",
    "pdays_mean.plot(kind='bar', figsize=(15, 5))\n",
    "plt.show()"
   ]
  },
  {
   "cell_type": "markdown",
   "metadata": {},
   "source": [
    "### Let's examine ids"
   ]
  },
  {
   "cell_type": "code",
   "execution_count": 51,
   "metadata": {},
   "outputs": [],
   "source": [
    "new_df = train_df.get(['id', 'y'])\n",
    "new_df = new_df.sort_values('id')"
   ]
  },
  {
   "cell_type": "code",
   "execution_count": 52,
   "metadata": {},
   "outputs": [
    {
     "data": {
      "image/png": "[encoded data removed]",
      "text/plain": [
       "<matplotlib.figure.Figure at 0x7f4499d71898>"
      ]
     },
     "metadata": {},
     "output_type": "display_data"
    }
   ],
   "source": [
    "x = new_df['id']\n",
    "y = np.cumsum(new_df['y'])\n",
    "plt.plot(x, y)\n",
    "plt.show()"
   ]
  },
  {
   "cell_type": "markdown",
   "metadata": {},
   "source": [
    "# 3. Features extraction"
   ]
  },
  {
   "cell_type": "code",
   "execution_count": 45,
   "metadata": {},
   "outputs": [
    {
     "name": "stderr",
     "output_type": "stream",
     "text": [
      "Using TensorFlow backend.\n"
     ]
    }
   ],
   "source": [
    "import numpy as np\n",
    "import matplotlib.pyplot as plt\n",
    "from keras.utils.np_utils import to_categorical\n",
    "from sklearn.preprocessing import LabelEncoder\n",
    "\n",
    "def get_categorical(column):\n",
    "    le = LabelEncoder()\n",
    "    le.fit(column)\n",
    "    labeled_column = le.transform(column)\n",
    "    return to_categorical(labeled_column).T\n",
    "\n",
    "def get_input_data(df):\n",
    "    # groups 0-15 / 15-30 / ...\n",
    "    ages = get_categorical([(get_year(contact) - get_year(birth)) // 10 for contact, birth in\n",
    "                     zip(df['contact_date'], df['birth_date'])])\n",
    "    \n",
    "    jobs = get_categorical(df['job'])\n",
    "    education = get_categorical(df['education'])\n",
    "    marital = get_categorical(df['marital'])\n",
    "    default = get_categorical(df['default'])\n",
    "    loan = get_categorical(df['loan'])\n",
    "\n",
    "    contact_years = [get_year(contact) - 2008 for contact in df['contact_date']]\n",
    "    contact_months = get_categorical([get_month(contact) for contact in df['contact_date']])\n",
    "    contact = get_categorical(contact_years)\n",
    "    poutcome = get_categorical(df['poutcome'])\n",
    "    previous = np.array([df['previous']])\n",
    "    contact_type = np.array([df['contact'] == 'cellular'])\n",
    "    id_num = np.array([df['id']])\n",
    "\n",
    "    # divide into bins\n",
    "    campaign = np.array([\n",
    "        np.array(df['campaign'].isin(range(2)), dtype=int),\n",
    "        np.array(df['campaign'].isin(range(2, 4)), dtype=int),\n",
    "        np.array(df['campaign'].isin(range(4, 7)), dtype=int),\n",
    "        np.array(df['campaign'].isin(range(7, 12)), dtype=int),\n",
    "        np.array(df['campaign'].isin(range(12, 100)), dtype=int)\n",
    "\n",
    "    ])\n",
    "    \n",
    "    pdays = np.array([np.array(df['pdays'] == 999, dtype=int),\n",
    "                     np.array(df['pdays'] == 0, dtype=int),\n",
    "                     np.array(df['pdays'].isin(range(1, 15)), dtype=int)])\n",
    "            \n",
    "    contact_weekday = get_categorical(np.array(df['contact_date'].map(get_weekday)))\n",
    "    contact_combined_year_month = get_categorical(df['contact_date'].map(get_year_and_month))\n",
    "    return np.concatenate([ages, jobs, education, marital, default, contact, poutcome,\n",
    "                           campaign, previous, contact_type, pdays, contact_months, \n",
    "                           contact_weekday,\n",
    "                           contact_combined_year_month,\n",
    "                           id_num\n",
    "                          ], axis=0).T, np.array(df['y'])"
   ]
  },
  {
   "cell_type": "markdown",
   "metadata": {},
   "source": [
    "# 4. Model selection "
   ]
  },
  {
   "cell_type": "code",
   "execution_count": 75,
   "metadata": {},
   "outputs": [
    {
     "name": "stdout",
     "output_type": "stream",
     "text": [
      "[[  0.00000000e+00   0.00000000e+00   1.00000000e+00 ...,   0.00000000e+00\n",
      "    0.00000000e+00   3.22070000e+04]\n",
      " [  0.00000000e+00   0.00000000e+00   1.00000000e+00 ...,   0.00000000e+00\n",
      "    0.00000000e+00   9.40400000e+03]\n",
      " [  0.00000000e+00   0.00000000e+00   0.00000000e+00 ...,   0.00000000e+00\n",
      "    0.00000000e+00   1.72020000e+04]\n",
      " ..., \n",
      " [  0.00000000e+00   0.00000000e+00   0.00000000e+00 ...,   0.00000000e+00\n",
      "    0.00000000e+00   3.71950000e+04]\n",
      " [  0.00000000e+00   0.00000000e+00   1.00000000e+00 ...,   0.00000000e+00\n",
      "    0.00000000e+00   1.12850000e+04]\n",
      " [  0.00000000e+00   1.00000000e+00   0.00000000e+00 ...,   0.00000000e+00\n",
      "    0.00000000e+00   1.57960000e+04]] [0 0 0 ..., 0 0 0]\n"
     ]
    }
   ],
   "source": [
    "from xgboost import XGBClassifier\n",
    "\n",
    "classifier = XGBClassifier(n_estimators=100, subsample=1.0, scale_pos_weight=1.)\n",
    "X, y = get_input_data(train_df)\n",
    "print(X, y)"
   ]
  },
  {
   "cell_type": "markdown",
   "metadata": {},
   "source": [
    "No need for scaling - no numerical features"
   ]
  },
  {
   "cell_type": "code",
   "execution_count": 76,
   "metadata": {},
   "outputs": [],
   "source": [
    "from sklearn.model_selection import GridSearchCV\n",
    "parameters = {'n_estimators': [30, 60, 100], 'learning_rate': [0.05, 0.1, 0.15], 'min_child_weight': [1, 2],\n",
    "             'gamma': [0., 0.05]}\n",
    "grid_classifier = GridSearchCV(classifier, parameters, scoring='roc_auc', cv=8, n_jobs=1, verbose=10)"
   ]
  },
  {
   "cell_type": "code",
   "execution_count": 77,
   "metadata": {},
   "outputs": [
    {
     "name": "stdout",
     "output_type": "stream",
     "text": [
      "Fitting 8 folds for each of 36 candidates, totalling 288 fits\n",
      "[CV] learning_rate=0.05, min_child_weight=1, n_estimators=30, gamma=0.0 \n",
      "[CV]  learning_rate=0.05, min_child_weight=1, n_estimators=30, gamma=0.0, score=0.7572927928846822, total=   0.4s\n",
      "[CV] learning_rate=0.05, min_child_weight=1, n_estimators=30, gamma=0.0 \n"
     ]
    },
    {
     "name": "stderr",
     "output_type": "stream",
     "text": [
      "[Parallel(n_jobs=1)]: Done   1 out of   1 | elapsed:    0.4s remaining:    0.0s\n"
     ]
    },
    {
     "name": "stdout",
     "output_type": "stream",
     "text": [
      "[CV]  learning_rate=0.05, min_child_weight=1, n_estimators=30, gamma=0.0, score=0.7903471398555137, total=   0.4s\n",
      "[CV] learning_rate=0.05, min_child_weight=1, n_estimators=30, gamma=0.0 \n"
     ]
    },
    {
     "name": "stderr",
     "output_type": "stream",
     "text": [
      "[Parallel(n_jobs=1)]: Done   2 out of   2 | elapsed:    0.8s remaining:    0.0s\n"
     ]
    },
    {
     "name": "stdout",
     "output_type": "stream",
     "text": [
      "[CV]  learning_rate=0.05, min_child_weight=1, n_estimators=30, gamma=0.0, score=0.7975087936074043, total=   0.4s\n",
      "[CV] learning_rate=0.05, min_child_weight=1, n_estimators=30, gamma=0.0 \n"
     ]
    },
    {
     "name": "stderr",
     "output_type": "stream",
     "text": [
      "[Parallel(n_jobs=1)]: Done   3 out of   3 | elapsed:    1.2s remaining:    0.0s\n"
     ]
    },
    {
     "name": "stdout",
     "output_type": "stream",
     "text": [
      "[CV]  learning_rate=0.05, min_child_weight=1, n_estimators=30, gamma=0.0, score=0.7864521075924642, total=   0.5s\n",
      "[CV] learning_rate=0.05, min_child_weight=1, n_estimators=30, gamma=0.0 \n"
     ]
    },
    {
     "name": "stderr",
     "output_type": "stream",
     "text": [
      "[Parallel(n_jobs=1)]: Done   4 out of   4 | elapsed:    1.7s remaining:    0.0s\n"
     ]
    },
    {
     "name": "stdout",
     "output_type": "stream",
     "text": [
      "[CV]  learning_rate=0.05, min_child_weight=1, n_estimators=30, gamma=0.0, score=0.7802591510237036, total=   0.4s\n",
      "[CV] learning_rate=0.05, min_child_weight=1, n_estimators=30, gamma=0.0 \n"
     ]
    },
    {
     "name": "stderr",
     "output_type": "stream",
     "text": [
      "[Parallel(n_jobs=1)]: Done   5 out of   5 | elapsed:    2.2s remaining:    0.0s\n"
     ]
    },
    {
     "name": "stdout",
     "output_type": "stream",
     "text": [
      "[CV]  learning_rate=0.05, min_child_weight=1, n_estimators=30, gamma=0.0, score=0.7933424894762862, total=   0.4s\n",
      "[CV] learning_rate=0.05, min_child_weight=1, n_estimators=30, gamma=0.0 \n"
     ]
    },
    {
     "name": "stderr",
     "output_type": "stream",
     "text": [
      "[Parallel(n_jobs=1)]: Done   6 out of   6 | elapsed:    2.6s remaining:    0.0s\n"
     ]
    },
    {
     "name": "stdout",
     "output_type": "stream",
     "text": [
      "[CV]  learning_rate=0.05, min_child_weight=1, n_estimators=30, gamma=0.0, score=0.7951174063250517, total=   0.4s\n",
      "[CV] learning_rate=0.05, min_child_weight=1, n_estimators=30, gamma=0.0 \n"
     ]
    },
    {
     "name": "stderr",
     "output_type": "stream",
     "text": [
      "[Parallel(n_jobs=1)]: Done   7 out of   7 | elapsed:    3.0s remaining:    0.0s\n"
     ]
    },
    {
     "name": "stdout",
     "output_type": "stream",
     "text": [
      "[CV]  learning_rate=0.05, min_child_weight=1, n_estimators=30, gamma=0.0, score=0.7752817781054098, total=   0.4s\n",
      "[CV] learning_rate=0.05, min_child_weight=1, n_estimators=60, gamma=0.0 \n"
     ]
    },
    {
     "name": "stderr",
     "output_type": "stream",
     "text": [
      "[Parallel(n_jobs=1)]: Done   8 out of   8 | elapsed:    3.5s remaining:    0.0s\n"
     ]
    },
    {
     "name": "stdout",
     "output_type": "stream",
     "text": [
      "[CV]  learning_rate=0.05, min_child_weight=1, n_estimators=60, gamma=0.0, score=0.763634098505888, total=   0.7s\n",
      "[CV] learning_rate=0.05, min_child_weight=1, n_estimators=60, gamma=0.0 \n"
     ]
    },
    {
     "name": "stderr",
     "output_type": "stream",
     "text": [
      "[Parallel(n_jobs=1)]: Done   9 out of   9 | elapsed:    4.2s remaining:    0.0s\n"
     ]
    },
    {
     "name": "stdout",
     "output_type": "stream",
     "text": [
      "[CV]  learning_rate=0.05, min_child_weight=1, n_estimators=60, gamma=0.0, score=0.7980457355011117, total=   0.7s\n",
      "[CV] learning_rate=0.05, min_child_weight=1, n_estimators=60, gamma=0.0 \n",
      "[CV]  learning_rate=0.05, min_child_weight=1, n_estimators=60, gamma=0.0, score=0.804051179232224, total=   0.7s\n",
      "[CV] learning_rate=0.05, min_child_weight=1, n_estimators=60, gamma=0.0 \n",
      "[CV]  learning_rate=0.05, min_child_weight=1, n_estimators=60, gamma=0.0, score=0.7930257610831549, total=   0.7s\n",
      "[CV] learning_rate=0.05, min_child_weight=1, n_estimators=60, gamma=0.0 \n",
      "[CV]  learning_rate=0.05, min_child_weight=1, n_estimators=60, gamma=0.0, score=0.7855963340324765, total=   0.7s\n",
      "[CV] learning_rate=0.05, min_child_weight=1, n_estimators=60, gamma=0.0 \n",
      "[CV]  learning_rate=0.05, min_child_weight=1, n_estimators=60, gamma=0.0, score=0.8016524936594441, total=   0.7s\n",
      "[CV] learning_rate=0.05, min_child_weight=1, n_estimators=60, gamma=0.0 \n",
      "[CV]  learning_rate=0.05, min_child_weight=1, n_estimators=60, gamma=0.0, score=0.8250701337147905, total=   0.7s\n",
      "[CV] learning_rate=0.05, min_child_weight=1, n_estimators=60, gamma=0.0 \n",
      "[CV]  learning_rate=0.05, min_child_weight=1, n_estimators=60, gamma=0.0, score=0.7788184480191432, total=   0.7s\n",
      "[CV] learning_rate=0.05, min_child_weight=1, n_estimators=100, gamma=0.0 \n",
      "[CV]  learning_rate=0.05, min_child_weight=1, n_estimators=100, gamma=0.0, score=0.7662022398563881, total=   1.0s\n",
      "[CV] learning_rate=0.05, min_child_weight=1, n_estimators=100, gamma=0.0 \n",
      "[CV]  learning_rate=0.05, min_child_weight=1, n_estimators=100, gamma=0.0, score=0.8008287993192422, total=   1.0s\n",
      "[CV] learning_rate=0.05, min_child_weight=1, n_estimators=100, gamma=0.0 \n",
      "[CV]  learning_rate=0.05, min_child_weight=1, n_estimators=100, gamma=0.0, score=0.8090118812054309, total=   1.1s\n",
      "[CV] learning_rate=0.05, min_child_weight=1, n_estimators=100, gamma=0.0 \n",
      "[CV]  learning_rate=0.05, min_child_weight=1, n_estimators=100, gamma=0.0, score=0.7909725421139482, total=   1.1s\n",
      "[CV] learning_rate=0.05, min_child_weight=1, n_estimators=100, gamma=0.0 \n",
      "[CV]  learning_rate=0.05, min_child_weight=1, n_estimators=100, gamma=0.0, score=0.7919566355708841, total=   1.3s\n",
      "[CV] learning_rate=0.05, min_child_weight=1, n_estimators=100, gamma=0.0 \n",
      "[CV]  learning_rate=0.05, min_child_weight=1, n_estimators=100, gamma=0.0, score=0.8034493501478731, total=   1.1s\n",
      "[CV] learning_rate=0.05, min_child_weight=1, n_estimators=100, gamma=0.0 \n",
      "[CV]  learning_rate=0.05, min_child_weight=1, n_estimators=100, gamma=0.0, score=0.8263221558182461, total=   1.1s\n",
      "[CV] learning_rate=0.05, min_child_weight=1, n_estimators=100, gamma=0.0 \n",
      "[CV]  learning_rate=0.05, min_child_weight=1, n_estimators=100, gamma=0.0, score=0.7803695805433426, total=   1.0s\n",
      "[CV] learning_rate=0.05, min_child_weight=2, n_estimators=30, gamma=0.0 \n",
      "[CV]  learning_rate=0.05, min_child_weight=2, n_estimators=30, gamma=0.0, score=0.7572891501309935, total=   0.4s\n",
      "[CV] learning_rate=0.05, min_child_weight=2, n_estimators=30, gamma=0.0 \n",
      "[CV]  learning_rate=0.05, min_child_weight=2, n_estimators=30, gamma=0.0, score=0.7904586081183865, total=   0.4s\n",
      "[CV] learning_rate=0.05, min_child_weight=2, n_estimators=30, gamma=0.0 \n",
      "[CV]  learning_rate=0.05, min_child_weight=2, n_estimators=30, gamma=0.0, score=0.7965944624315526, total=   0.4s\n",
      "[CV] learning_rate=0.05, min_child_weight=2, n_estimators=30, gamma=0.0 \n",
      "[CV]  learning_rate=0.05, min_child_weight=2, n_estimators=30, gamma=0.0, score=0.7864521075924642, total=   0.4s\n",
      "[CV] learning_rate=0.05, min_child_weight=2, n_estimators=30, gamma=0.0 \n",
      "[CV]  learning_rate=0.05, min_child_weight=2, n_estimators=30, gamma=0.0, score=0.7802635389516364, total=   0.5s\n",
      "[CV] learning_rate=0.05, min_child_weight=2, n_estimators=30, gamma=0.0 \n",
      "[CV]  learning_rate=0.05, min_child_weight=2, n_estimators=30, gamma=0.0, score=0.7932240154221041, total=   0.4s\n",
      "[CV] learning_rate=0.05, min_child_weight=2, n_estimators=30, gamma=0.0 \n",
      "[CV]  learning_rate=0.05, min_child_weight=2, n_estimators=30, gamma=0.0, score=0.7951174063250517, total=   0.4s\n",
      "[CV] learning_rate=0.05, min_child_weight=2, n_estimators=30, gamma=0.0 \n",
      "[CV]  learning_rate=0.05, min_child_weight=2, n_estimators=30, gamma=0.0, score=0.7752803154627654, total=   0.4s\n",
      "[CV] learning_rate=0.05, min_child_weight=2, n_estimators=60, gamma=0.0 \n",
      "[CV]  learning_rate=0.05, min_child_weight=2, n_estimators=60, gamma=0.0, score=0.7654583895531651, total=   0.7s\n",
      "[CV] learning_rate=0.05, min_child_weight=2, n_estimators=60, gamma=0.0 \n",
      "[CV]  learning_rate=0.05, min_child_weight=2, n_estimators=60, gamma=0.0, score=0.7979648663692236, total=   0.7s\n",
      "[CV] learning_rate=0.05, min_child_weight=2, n_estimators=60, gamma=0.0 \n",
      "[CV]  learning_rate=0.05, min_child_weight=2, n_estimators=60, gamma=0.0, score=0.8046697188085571, total=   0.7s\n",
      "[CV] learning_rate=0.05, min_child_weight=2, n_estimators=60, gamma=0.0 \n",
      "[CV]  learning_rate=0.05, min_child_weight=2, n_estimators=60, gamma=0.0, score=0.7930920880005131, total=   0.7s\n",
      "[CV] learning_rate=0.05, min_child_weight=2, n_estimators=60, gamma=0.0 \n",
      "[CV]  learning_rate=0.05, min_child_weight=2, n_estimators=60, gamma=0.0, score=0.7855685438222363, total=   0.7s\n",
      "[CV] learning_rate=0.05, min_child_weight=2, n_estimators=60, gamma=0.0 \n",
      "[CV]  learning_rate=0.05, min_child_weight=2, n_estimators=60, gamma=0.0, score=0.8016693140498529, total=   0.7s\n",
      "[CV] learning_rate=0.05, min_child_weight=2, n_estimators=60, gamma=0.0 \n",
      "[CV]  learning_rate=0.05, min_child_weight=2, n_estimators=60, gamma=0.0, score=0.8251849511623619, total=   0.7s\n",
      "[CV] learning_rate=0.05, min_child_weight=2, n_estimators=60, gamma=0.0 \n",
      "[CV]  learning_rate=0.05, min_child_weight=2, n_estimators=60, gamma=0.0, score=0.779478099851688, total=   0.7s\n",
      "[CV] learning_rate=0.05, min_child_weight=2, n_estimators=100, gamma=0.0 \n",
      "[CV]  learning_rate=0.05, min_child_weight=2, n_estimators=100, gamma=0.0, score=0.7661978685519617, total=   1.0s\n",
      "[CV] learning_rate=0.05, min_child_weight=2, n_estimators=100, gamma=0.0 \n",
      "[CV]  learning_rate=0.05, min_child_weight=2, n_estimators=100, gamma=0.0, score=0.8016586186095171, total=   1.0s\n",
      "[CV] learning_rate=0.05, min_child_weight=2, n_estimators=100, gamma=0.0 \n",
      "[CV]  learning_rate=0.05, min_child_weight=2, n_estimators=100, gamma=0.0, score=0.808681847721239, total=   1.1s\n",
      "[CV] learning_rate=0.05, min_child_weight=2, n_estimators=100, gamma=0.0 \n",
      "[CV]  learning_rate=0.05, min_child_weight=2, n_estimators=100, gamma=0.0, score=0.7911314351687182, total=   1.0s\n",
      "[CV] learning_rate=0.05, min_child_weight=2, n_estimators=100, gamma=0.0 \n",
      "[CV]  learning_rate=0.05, min_child_weight=2, n_estimators=100, gamma=0.0, score=0.7915229620268718, total=   1.0s\n",
      "[CV] learning_rate=0.05, min_child_weight=2, n_estimators=100, gamma=0.0 \n",
      "[CV]  learning_rate=0.05, min_child_weight=2, n_estimators=100, gamma=0.0, score=0.804370083692412, total=   1.0s\n",
      "[CV] learning_rate=0.05, min_child_weight=2, n_estimators=100, gamma=0.0 \n",
      "[CV]  learning_rate=0.05, min_child_weight=2, n_estimators=100, gamma=0.0, score=0.8280912220964349, total=   1.0s\n",
      "[CV] learning_rate=0.05, min_child_weight=2, n_estimators=100, gamma=0.0 \n",
      "[CV]  learning_rate=0.05, min_child_weight=2, n_estimators=100, gamma=0.0, score=0.7791804520735884, total=   1.0s\n",
      "[CV] learning_rate=0.1, min_child_weight=1, n_estimators=30, gamma=0.0 \n",
      "[CV]  learning_rate=0.1, min_child_weight=1, n_estimators=30, gamma=0.0, score=0.7661373988407301, total=   0.4s\n",
      "[CV] learning_rate=0.1, min_child_weight=1, n_estimators=30, gamma=0.0 \n",
      "[CV]  learning_rate=0.1, min_child_weight=1, n_estimators=30, gamma=0.0, score=0.7960837483644035, total=   0.4s\n",
      "[CV] learning_rate=0.1, min_child_weight=1, n_estimators=30, gamma=0.0 \n",
      "[CV]  learning_rate=0.1, min_child_weight=1, n_estimators=30, gamma=0.0, score=0.8042172888004266, total=   0.4s\n",
      "[CV] learning_rate=0.1, min_child_weight=1, n_estimators=30, gamma=0.0 \n",
      "[CV]  learning_rate=0.1, min_child_weight=1, n_estimators=30, gamma=0.0, score=0.7911984909533001, total=   0.4s\n",
      "[CV] learning_rate=0.1, min_child_weight=1, n_estimators=30, gamma=0.0 \n",
      "[CV]  learning_rate=0.1, min_child_weight=1, n_estimators=30, gamma=0.0, score=0.7874999634339339, total=   0.3s\n",
      "[CV] learning_rate=0.1, min_child_weight=1, n_estimators=30, gamma=0.0 \n"
     ]
    },
    {
     "name": "stdout",
     "output_type": "stream",
     "text": [
      "[CV]  learning_rate=0.1, min_child_weight=1, n_estimators=30, gamma=0.0, score=0.8001876570512539, total=   0.3s\n",
      "[CV] learning_rate=0.1, min_child_weight=1, n_estimators=30, gamma=0.0 \n",
      "[CV]  learning_rate=0.1, min_child_weight=1, n_estimators=30, gamma=0.0, score=0.8272392327561745, total=   0.4s\n",
      "[CV] learning_rate=0.1, min_child_weight=1, n_estimators=30, gamma=0.0 \n",
      "[CV]  learning_rate=0.1, min_child_weight=1, n_estimators=30, gamma=0.0, score=0.7796331399719757, total=   0.4s\n",
      "[CV] learning_rate=0.1, min_child_weight=1, n_estimators=60, gamma=0.0 \n",
      "[CV]  learning_rate=0.1, min_child_weight=1, n_estimators=60, gamma=0.0, score=0.7670342447988763, total=   0.6s\n",
      "[CV] learning_rate=0.1, min_child_weight=1, n_estimators=60, gamma=0.0 \n",
      "[CV]  learning_rate=0.1, min_child_weight=1, n_estimators=60, gamma=0.0, score=0.8018225425255066, total=   0.6s\n",
      "[CV] learning_rate=0.1, min_child_weight=1, n_estimators=60, gamma=0.0 \n",
      "[CV]  learning_rate=0.1, min_child_weight=1, n_estimators=60, gamma=0.0, score=0.8094293407781505, total=   0.6s\n",
      "[CV] learning_rate=0.1, min_child_weight=1, n_estimators=60, gamma=0.0 \n",
      "[CV]  learning_rate=0.1, min_child_weight=1, n_estimators=60, gamma=0.0, score=0.7902465903591274, total=   0.6s\n",
      "[CV] learning_rate=0.1, min_child_weight=1, n_estimators=60, gamma=0.0 \n",
      "[CV]  learning_rate=0.1, min_child_weight=1, n_estimators=60, gamma=0.0, score=0.7935436028398669, total=   0.6s\n",
      "[CV] learning_rate=0.1, min_child_weight=1, n_estimators=60, gamma=0.0 \n",
      "[CV]  learning_rate=0.1, min_child_weight=1, n_estimators=60, gamma=0.0, score=0.804911261470775, total=   0.6s\n",
      "[CV] learning_rate=0.1, min_child_weight=1, n_estimators=60, gamma=0.0 \n",
      "[CV]  learning_rate=0.1, min_child_weight=1, n_estimators=60, gamma=0.0, score=0.8276297583421823, total=   0.6s\n",
      "[CV] learning_rate=0.1, min_child_weight=1, n_estimators=60, gamma=0.0 \n",
      "[CV]  learning_rate=0.1, min_child_weight=1, n_estimators=60, gamma=0.0, score=0.7801421396121657, total=   0.6s\n",
      "[CV] learning_rate=0.1, min_child_weight=1, n_estimators=100, gamma=0.0 \n",
      "[CV]  learning_rate=0.1, min_child_weight=1, n_estimators=100, gamma=0.0, score=0.7692650671578071, total=   1.0s\n",
      "[CV] learning_rate=0.1, min_child_weight=1, n_estimators=100, gamma=0.0 \n",
      "[CV]  learning_rate=0.1, min_child_weight=1, n_estimators=100, gamma=0.0, score=0.805219046064806, total=   1.0s\n",
      "[CV] learning_rate=0.1, min_child_weight=1, n_estimators=100, gamma=0.0 \n",
      "[CV]  learning_rate=0.1, min_child_weight=1, n_estimators=100, gamma=0.0, score=0.8120805369127517, total=   1.0s\n",
      "[CV] learning_rate=0.1, min_child_weight=1, n_estimators=100, gamma=0.0 \n",
      "[CV]  learning_rate=0.1, min_child_weight=1, n_estimators=100, gamma=0.0, score=0.7898041679543321, total=   1.0s\n",
      "[CV] learning_rate=0.1, min_child_weight=1, n_estimators=100, gamma=0.0 \n",
      "[CV]  learning_rate=0.1, min_child_weight=1, n_estimators=100, gamma=0.0, score=0.7957441486981018, total=   1.0s\n",
      "[CV] learning_rate=0.1, min_child_weight=1, n_estimators=100, gamma=0.0 \n",
      "[CV]  learning_rate=0.1, min_child_weight=1, n_estimators=100, gamma=0.0, score=0.8063526957966576, total=   1.0s\n",
      "[CV] learning_rate=0.1, min_child_weight=1, n_estimators=100, gamma=0.0 \n",
      "[CV]  learning_rate=0.1, min_child_weight=1, n_estimators=100, gamma=0.0, score=0.8248624384593107, total=   1.0s\n",
      "[CV] learning_rate=0.1, min_child_weight=1, n_estimators=100, gamma=0.0 \n",
      "[CV]  learning_rate=0.1, min_child_weight=1, n_estimators=100, gamma=0.0, score=0.7813627148987705, total=   1.0s\n",
      "[CV] learning_rate=0.1, min_child_weight=2, n_estimators=30, gamma=0.0 \n",
      "[CV]  learning_rate=0.1, min_child_weight=2, n_estimators=30, gamma=0.0, score=0.7661505127540091, total=   0.4s\n",
      "[CV] learning_rate=0.1, min_child_weight=2, n_estimators=30, gamma=0.0 \n",
      "[CV]  learning_rate=0.1, min_child_weight=2, n_estimators=30, gamma=0.0, score=0.7965281643144192, total=   0.3s\n",
      "[CV] learning_rate=0.1, min_child_weight=2, n_estimators=30, gamma=0.0 \n",
      "[CV]  learning_rate=0.1, min_child_weight=2, n_estimators=30, gamma=0.0, score=0.8046959466351157, total=   0.3s\n",
      "[CV] learning_rate=0.1, min_child_weight=2, n_estimators=30, gamma=0.0 \n",
      "[CV]  learning_rate=0.1, min_child_weight=2, n_estimators=30, gamma=0.0, score=0.7908493635531403, total=   0.4s\n",
      "[CV] learning_rate=0.1, min_child_weight=2, n_estimators=30, gamma=0.0 \n",
      "[CV]  learning_rate=0.1, min_child_weight=2, n_estimators=30, gamma=0.0, score=0.7870494694995129, total=   0.3s\n",
      "[CV] learning_rate=0.1, min_child_weight=2, n_estimators=30, gamma=0.0 \n",
      "[CV]  learning_rate=0.1, min_child_weight=2, n_estimators=30, gamma=0.0, score=0.8003712187031041, total=   0.3s\n",
      "[CV] learning_rate=0.1, min_child_weight=2, n_estimators=30, gamma=0.0 \n",
      "[CV]  learning_rate=0.1, min_child_weight=2, n_estimators=30, gamma=0.0, score=0.8273079769604531, total=   0.4s\n",
      "[CV] learning_rate=0.1, min_child_weight=2, n_estimators=30, gamma=0.0 \n",
      "[CV]  learning_rate=0.1, min_child_weight=2, n_estimators=30, gamma=0.0, score=0.7779532948950845, total=   0.3s\n",
      "[CV] learning_rate=0.1, min_child_weight=2, n_estimators=60, gamma=0.0 \n",
      "[CV]  learning_rate=0.1, min_child_weight=2, n_estimators=60, gamma=0.0, score=0.7670670295820742, total=   0.6s\n",
      "[CV] learning_rate=0.1, min_child_weight=2, n_estimators=60, gamma=0.0 \n",
      "[CV]  learning_rate=0.1, min_child_weight=2, n_estimators=60, gamma=0.0, score=0.8012921575884389, total=   0.6s\n",
      "[CV] learning_rate=0.1, min_child_weight=2, n_estimators=60, gamma=0.0 \n",
      "[CV]  learning_rate=0.1, min_child_weight=2, n_estimators=60, gamma=0.0, score=0.8095459088961874, total=   0.6s\n",
      "[CV] learning_rate=0.1, min_child_weight=2, n_estimators=60, gamma=0.0 \n",
      "[CV]  learning_rate=0.1, min_child_weight=2, n_estimators=60, gamma=0.0, score=0.7903231214176176, total=   0.6s\n",
      "[CV] learning_rate=0.1, min_child_weight=2, n_estimators=60, gamma=0.0 \n",
      "[CV]  learning_rate=0.1, min_child_weight=2, n_estimators=60, gamma=0.0, score=0.7938551457230867, total=   0.6s\n",
      "[CV] learning_rate=0.1, min_child_weight=2, n_estimators=60, gamma=0.0 \n",
      "[CV]  learning_rate=0.1, min_child_weight=2, n_estimators=60, gamma=0.0, score=0.8052659523119993, total=   0.6s\n",
      "[CV] learning_rate=0.1, min_child_weight=2, n_estimators=60, gamma=0.0 \n",
      "[CV]  learning_rate=0.1, min_child_weight=2, n_estimators=60, gamma=0.0, score=0.8261210424546653, total=   0.6s\n",
      "[CV] learning_rate=0.1, min_child_weight=2, n_estimators=60, gamma=0.0 \n",
      "[CV]  learning_rate=0.1, min_child_weight=2, n_estimators=60, gamma=0.0, score=0.7794115496113758, total=   0.6s\n",
      "[CV] learning_rate=0.1, min_child_weight=2, n_estimators=100, gamma=0.0 \n",
      "[CV]  learning_rate=0.1, min_child_weight=2, n_estimators=100, gamma=0.0, score=0.7706522277624458, total=   1.0s\n",
      "[CV] learning_rate=0.1, min_child_weight=2, n_estimators=100, gamma=0.0 \n",
      "[CV]  learning_rate=0.1, min_child_weight=2, n_estimators=100, gamma=0.0, score=0.8020629642689576, total=   1.0s\n",
      "[CV] learning_rate=0.1, min_child_weight=2, n_estimators=100, gamma=0.0 \n",
      "[CV]  learning_rate=0.1, min_child_weight=2, n_estimators=100, gamma=0.0, score=0.8110489090681252, total=   1.0s\n",
      "[CV] learning_rate=0.1, min_child_weight=2, n_estimators=100, gamma=0.0 \n",
      "[CV]  learning_rate=0.1, min_child_weight=2, n_estimators=100, gamma=0.0, score=0.7897567915847906, total=   1.0s\n",
      "[CV] learning_rate=0.1, min_child_weight=2, n_estimators=100, gamma=0.0 \n",
      "[CV]  learning_rate=0.1, min_child_weight=2, n_estimators=100, gamma=0.0, score=0.7951276448235614, total=   1.0s\n",
      "[CV] learning_rate=0.1, min_child_weight=2, n_estimators=100, gamma=0.0 \n",
      "[CV]  learning_rate=0.1, min_child_weight=2, n_estimators=100, gamma=0.0, score=0.8060740623729329, total=   1.0s\n",
      "[CV] learning_rate=0.1, min_child_weight=2, n_estimators=100, gamma=0.0 \n",
      "[CV]  learning_rate=0.1, min_child_weight=2, n_estimators=100, gamma=0.0, score=0.8258029176795467, total=   1.1s\n",
      "[CV] learning_rate=0.1, min_child_weight=2, n_estimators=100, gamma=0.0 \n",
      "[CV]  learning_rate=0.1, min_child_weight=2, n_estimators=100, gamma=0.0, score=0.7808595658291575, total=   1.1s\n",
      "[CV] learning_rate=0.15, min_child_weight=1, n_estimators=30, gamma=0.0 \n",
      "[CV]  learning_rate=0.15, min_child_weight=1, n_estimators=30, gamma=0.0, score=0.7689182770066472, total=   0.4s\n",
      "[CV] learning_rate=0.15, min_child_weight=1, n_estimators=30, gamma=0.0 \n",
      "[CV]  learning_rate=0.15, min_child_weight=1, n_estimators=30, gamma=0.0, score=0.8014327678808209, total=   0.4s\n",
      "[CV] learning_rate=0.15, min_child_weight=1, n_estimators=30, gamma=0.0 \n"
     ]
    },
    {
     "name": "stdout",
     "output_type": "stream",
     "text": [
      "[CV]  learning_rate=0.15, min_child_weight=1, n_estimators=30, gamma=0.0, score=0.8084567255432802, total=   0.4s\n",
      "[CV] learning_rate=0.15, min_child_weight=1, n_estimators=30, gamma=0.0 \n",
      "[CV]  learning_rate=0.15, min_child_weight=1, n_estimators=30, gamma=0.0, score=0.7926780914174427, total=   0.4s\n",
      "[CV] learning_rate=0.15, min_child_weight=1, n_estimators=30, gamma=0.0 \n",
      "[CV]  learning_rate=0.15, min_child_weight=1, n_estimators=30, gamma=0.0, score=0.7920187978832636, total=   0.4s\n",
      "[CV] learning_rate=0.15, min_child_weight=1, n_estimators=30, gamma=0.0 \n",
      "[CV]  learning_rate=0.15, min_child_weight=1, n_estimators=30, gamma=0.0, score=0.8037104318598672, total=   0.4s\n",
      "[CV] learning_rate=0.15, min_child_weight=1, n_estimators=30, gamma=0.0 \n",
      "[CV]  learning_rate=0.15, min_child_weight=1, n_estimators=30, gamma=0.0, score=0.8283742434480923, total=   0.4s\n",
      "[CV] learning_rate=0.15, min_child_weight=1, n_estimators=30, gamma=0.0 \n",
      "[CV]  learning_rate=0.15, min_child_weight=1, n_estimators=30, gamma=0.0, score=0.7783723420126548, total=   0.4s\n",
      "[CV] learning_rate=0.15, min_child_weight=1, n_estimators=60, gamma=0.0 \n",
      "[CV]  learning_rate=0.15, min_child_weight=1, n_estimators=60, gamma=0.0, score=0.7688439648313988, total=   0.7s\n",
      "[CV] learning_rate=0.15, min_child_weight=1, n_estimators=60, gamma=0.0 \n",
      "[CV]  learning_rate=0.15, min_child_weight=1, n_estimators=60, gamma=0.0, score=0.8043753843105141, total=   0.7s\n",
      "[CV] learning_rate=0.15, min_child_weight=1, n_estimators=60, gamma=0.0 \n",
      "[CV]  learning_rate=0.15, min_child_weight=1, n_estimators=60, gamma=0.0, score=0.8117774598058558, total=   0.7s\n",
      "[CV] learning_rate=0.15, min_child_weight=1, n_estimators=60, gamma=0.0 \n",
      "[CV]  learning_rate=0.15, min_child_weight=1, n_estimators=60, gamma=0.0, score=0.7923377104239675, total=   0.7s\n",
      "[CV] learning_rate=0.15, min_child_weight=1, n_estimators=60, gamma=0.0 \n",
      "[CV]  learning_rate=0.15, min_child_weight=1, n_estimators=60, gamma=0.0, score=0.7964659628430263, total=   0.7s\n",
      "[CV] learning_rate=0.15, min_child_weight=1, n_estimators=60, gamma=0.0 \n",
      "[CV]  learning_rate=0.15, min_child_weight=1, n_estimators=60, gamma=0.0, score=0.8039247090072459, total=   0.7s\n",
      "[CV] learning_rate=0.15, min_child_weight=1, n_estimators=60, gamma=0.0 \n",
      "[CV]  learning_rate=0.15, min_child_weight=1, n_estimators=60, gamma=0.0, score=0.8258416777096187, total=   0.7s\n",
      "[CV] learning_rate=0.15, min_child_weight=1, n_estimators=60, gamma=0.0 \n",
      "[CV]  learning_rate=0.15, min_child_weight=1, n_estimators=60, gamma=0.0, score=0.7771876014708334, total=   0.7s\n",
      "[CV] learning_rate=0.15, min_child_weight=1, n_estimators=100, gamma=0.0 \n",
      "[CV]  learning_rate=0.15, min_child_weight=1, n_estimators=100, gamma=0.0, score=0.7712037406709078, total=   1.1s\n",
      "[CV] learning_rate=0.15, min_child_weight=1, n_estimators=100, gamma=0.0 \n",
      "[CV]  learning_rate=0.15, min_child_weight=1, n_estimators=100, gamma=0.0, score=0.8053348856321052, total=   1.1s\n",
      "[CV] learning_rate=0.15, min_child_weight=1, n_estimators=100, gamma=0.0 \n",
      "[CV]  learning_rate=0.15, min_child_weight=1, n_estimators=100, gamma=0.0, score=0.8131886625848397, total=   1.1s\n",
      "[CV] learning_rate=0.15, min_child_weight=1, n_estimators=100, gamma=0.0 \n",
      "[CV]  learning_rate=0.15, min_child_weight=1, n_estimators=100, gamma=0.0, score=0.7913311447880162, total=   1.1s\n",
      "[CV] learning_rate=0.15, min_child_weight=1, n_estimators=100, gamma=0.0 \n",
      "[CV]  learning_rate=0.15, min_child_weight=1, n_estimators=100, gamma=0.0, score=0.7980046629047498, total=   1.1s\n",
      "[CV] learning_rate=0.15, min_child_weight=1, n_estimators=100, gamma=0.0 \n",
      "[CV]  learning_rate=0.15, min_child_weight=1, n_estimators=100, gamma=0.0, score=0.8102667275126006, total=   1.1s\n",
      "[CV] learning_rate=0.15, min_child_weight=1, n_estimators=100, gamma=0.0 \n",
      "[CV]  learning_rate=0.15, min_child_weight=1, n_estimators=100, gamma=0.0, score=0.8259462566586806, total=   1.1s\n",
      "[CV] learning_rate=0.15, min_child_weight=1, n_estimators=100, gamma=0.0 \n",
      "[CV]  learning_rate=0.15, min_child_weight=1, n_estimators=100, gamma=0.0, score=0.7796828698218793, total=   1.1s\n",
      "[CV] learning_rate=0.15, min_child_weight=2, n_estimators=30, gamma=0.0 \n",
      "[CV]  learning_rate=0.15, min_child_weight=2, n_estimators=30, gamma=0.0, score=0.7664331904402487, total=   0.4s\n",
      "[CV] learning_rate=0.15, min_child_weight=2, n_estimators=30, gamma=0.0 \n",
      "[CV]  learning_rate=0.15, min_child_weight=2, n_estimators=30, gamma=0.0, score=0.8019391106435436, total=   0.4s\n",
      "[CV] learning_rate=0.15, min_child_weight=2, n_estimators=30, gamma=0.0 \n",
      "[CV]  learning_rate=0.15, min_child_weight=2, n_estimators=30, gamma=0.0, score=0.8084363261226238, total=   0.4s\n",
      "[CV] learning_rate=0.15, min_child_weight=2, n_estimators=30, gamma=0.0 \n",
      "[CV]  learning_rate=0.15, min_child_weight=2, n_estimators=30, gamma=0.0, score=0.792377069254048, total=   0.4s\n",
      "[CV] learning_rate=0.15, min_child_weight=2, n_estimators=30, gamma=0.0 \n",
      "[CV]  learning_rate=0.15, min_child_weight=2, n_estimators=30, gamma=0.0, score=0.7898570120551006, total=   0.4s\n",
      "[CV] learning_rate=0.15, min_child_weight=2, n_estimators=30, gamma=0.0 \n",
      "[CV]  learning_rate=0.15, min_child_weight=2, n_estimators=30, gamma=0.0, score=0.8028335775946549, total=   0.4s\n",
      "[CV] learning_rate=0.15, min_child_weight=2, n_estimators=30, gamma=0.0 \n",
      "[CV]  learning_rate=0.15, min_child_weight=2, n_estimators=30, gamma=0.0, score=0.8286470263012401, total=   0.4s\n",
      "[CV] learning_rate=0.15, min_child_weight=2, n_estimators=30, gamma=0.0 \n",
      "[CV]  learning_rate=0.15, min_child_weight=2, n_estimators=30, gamma=0.0, score=0.7793303729446214, total=   0.4s\n",
      "[CV] learning_rate=0.15, min_child_weight=2, n_estimators=60, gamma=0.0 \n",
      "[CV]  learning_rate=0.15, min_child_weight=2, n_estimators=60, gamma=0.0, score=0.7697714099205297, total=   0.7s\n",
      "[CV] learning_rate=0.15, min_child_weight=2, n_estimators=60, gamma=0.0 \n",
      "[CV]  learning_rate=0.15, min_child_weight=2, n_estimators=60, gamma=0.0, score=0.8084734822102481, total=   0.7s\n",
      "[CV] learning_rate=0.15, min_child_weight=2, n_estimators=60, gamma=0.0 \n",
      "[CV]  learning_rate=0.15, min_child_weight=2, n_estimators=60, gamma=0.0, score=0.8111487205191944, total=   0.7s\n",
      "[CV] learning_rate=0.15, min_child_weight=2, n_estimators=60, gamma=0.0 \n",
      "[CV]  learning_rate=0.15, min_child_weight=2, n_estimators=60, gamma=0.0, score=0.7898427979171891, total=   0.7s\n",
      "[CV] learning_rate=0.15, min_child_weight=2, n_estimators=60, gamma=0.0 \n",
      "[CV]  learning_rate=0.15, min_child_weight=2, n_estimators=60, gamma=0.0, score=0.7976814188803762, total=   0.7s\n",
      "[CV] learning_rate=0.15, min_child_weight=2, n_estimators=60, gamma=0.0 \n",
      "[CV]  learning_rate=0.15, min_child_weight=2, n_estimators=60, gamma=0.0, score=0.8053778444742823, total=   0.7s\n",
      "[CV] learning_rate=0.15, min_child_weight=2, n_estimators=60, gamma=0.0 \n",
      "[CV]  learning_rate=0.15, min_child_weight=2, n_estimators=60, gamma=0.0, score=0.8260998341363242, total=   0.7s\n",
      "[CV] learning_rate=0.15, min_child_weight=2, n_estimators=60, gamma=0.0 \n",
      "[CV]  learning_rate=0.15, min_child_weight=2, n_estimators=60, gamma=0.0, score=0.7795914546566154, total=   0.7s\n",
      "[CV] learning_rate=0.15, min_child_weight=2, n_estimators=100, gamma=0.0 \n",
      "[CV]  learning_rate=0.15, min_child_weight=2, n_estimators=100, gamma=0.0, score=0.7696439135414268, total=   1.1s\n",
      "[CV] learning_rate=0.15, min_child_weight=2, n_estimators=100, gamma=0.0 \n",
      "[CV]  learning_rate=0.15, min_child_weight=2, n_estimators=100, gamma=0.0, score=0.8112514461732143, total=   1.1s\n",
      "[CV] learning_rate=0.15, min_child_weight=2, n_estimators=100, gamma=0.0 \n",
      "[CV]  learning_rate=0.15, min_child_weight=2, n_estimators=100, gamma=0.0, score=0.8132119762084472, total=   1.1s\n",
      "[CV] learning_rate=0.15, min_child_weight=2, n_estimators=100, gamma=0.0 \n",
      "[CV]  learning_rate=0.15, min_child_weight=2, n_estimators=100, gamma=0.0, score=0.7880767526341261, total=   1.1s\n",
      "[CV] learning_rate=0.15, min_child_weight=2, n_estimators=100, gamma=0.0 \n",
      "[CV]  learning_rate=0.15, min_child_weight=2, n_estimators=100, gamma=0.0, score=0.798913695308135, total=   1.1s\n",
      "[CV] learning_rate=0.15, min_child_weight=2, n_estimators=100, gamma=0.0 \n",
      "[CV]  learning_rate=0.15, min_child_weight=2, n_estimators=100, gamma=0.0, score=0.8037842953134003, total=   1.1s\n",
      "[CV] learning_rate=0.15, min_child_weight=2, n_estimators=100, gamma=0.0 \n"
     ]
    },
    {
     "name": "stdout",
     "output_type": "stream",
     "text": [
      "[CV]  learning_rate=0.15, min_child_weight=2, n_estimators=100, gamma=0.0, score=0.8260069563284159, total=   1.1s\n",
      "[CV] learning_rate=0.15, min_child_weight=2, n_estimators=100, gamma=0.0 \n",
      "[CV]  learning_rate=0.15, min_child_weight=2, n_estimators=100, gamma=0.0, score=0.7769301763654499, total=   1.1s\n",
      "[CV] learning_rate=0.05, min_child_weight=1, n_estimators=30, gamma=0.05 \n",
      "[CV]  learning_rate=0.05, min_child_weight=1, n_estimators=30, gamma=0.05, score=0.7572927928846822, total=   0.4s\n",
      "[CV] learning_rate=0.05, min_child_weight=1, n_estimators=30, gamma=0.05 \n",
      "[CV]  learning_rate=0.05, min_child_weight=1, n_estimators=30, gamma=0.05, score=0.7903471398555137, total=   0.4s\n",
      "[CV] learning_rate=0.05, min_child_weight=1, n_estimators=30, gamma=0.05 \n",
      "[CV]  learning_rate=0.05, min_child_weight=1, n_estimators=30, gamma=0.05, score=0.7975087936074043, total=   0.4s\n",
      "[CV] learning_rate=0.05, min_child_weight=1, n_estimators=30, gamma=0.05 \n",
      "[CV]  learning_rate=0.05, min_child_weight=1, n_estimators=30, gamma=0.05, score=0.7864521075924642, total=   0.4s\n",
      "[CV] learning_rate=0.05, min_child_weight=1, n_estimators=30, gamma=0.05 \n",
      "[CV]  learning_rate=0.05, min_child_weight=1, n_estimators=30, gamma=0.05, score=0.7802591510237036, total=   0.4s\n",
      "[CV] learning_rate=0.05, min_child_weight=1, n_estimators=30, gamma=0.05 \n",
      "[CV]  learning_rate=0.05, min_child_weight=1, n_estimators=30, gamma=0.05, score=0.7933424894762862, total=   0.4s\n",
      "[CV] learning_rate=0.05, min_child_weight=1, n_estimators=30, gamma=0.05 \n",
      "[CV]  learning_rate=0.05, min_child_weight=1, n_estimators=30, gamma=0.05, score=0.7951174063250517, total=   0.4s\n",
      "[CV] learning_rate=0.05, min_child_weight=1, n_estimators=30, gamma=0.05 \n",
      "[CV]  learning_rate=0.05, min_child_weight=1, n_estimators=30, gamma=0.05, score=0.7752817781054098, total=   0.4s\n",
      "[CV] learning_rate=0.05, min_child_weight=1, n_estimators=60, gamma=0.05 \n",
      "[CV]  learning_rate=0.05, min_child_weight=1, n_estimators=60, gamma=0.05, score=0.763634098505888, total=   0.7s\n",
      "[CV] learning_rate=0.05, min_child_weight=1, n_estimators=60, gamma=0.05 \n",
      "[CV]  learning_rate=0.05, min_child_weight=1, n_estimators=60, gamma=0.05, score=0.7980457355011117, total=   0.7s\n",
      "[CV] learning_rate=0.05, min_child_weight=1, n_estimators=60, gamma=0.05 \n",
      "[CV]  learning_rate=0.05, min_child_weight=1, n_estimators=60, gamma=0.05, score=0.804051179232224, total=   0.7s\n",
      "[CV] learning_rate=0.05, min_child_weight=1, n_estimators=60, gamma=0.05 \n",
      "[CV]  learning_rate=0.05, min_child_weight=1, n_estimators=60, gamma=0.05, score=0.7930257610831549, total=   0.7s\n",
      "[CV] learning_rate=0.05, min_child_weight=1, n_estimators=60, gamma=0.05 \n",
      "[CV]  learning_rate=0.05, min_child_weight=1, n_estimators=60, gamma=0.05, score=0.7855963340324765, total=   0.7s\n",
      "[CV] learning_rate=0.05, min_child_weight=1, n_estimators=60, gamma=0.05 \n",
      "[CV]  learning_rate=0.05, min_child_weight=1, n_estimators=60, gamma=0.05, score=0.8016524936594441, total=   0.7s\n",
      "[CV] learning_rate=0.05, min_child_weight=1, n_estimators=60, gamma=0.05 \n",
      "[CV]  learning_rate=0.05, min_child_weight=1, n_estimators=60, gamma=0.05, score=0.8250701337147905, total=   0.7s\n",
      "[CV] learning_rate=0.05, min_child_weight=1, n_estimators=60, gamma=0.05 \n",
      "[CV]  learning_rate=0.05, min_child_weight=1, n_estimators=60, gamma=0.05, score=0.7788184480191432, total=   0.7s\n",
      "[CV] learning_rate=0.05, min_child_weight=1, n_estimators=100, gamma=0.05 \n",
      "[CV]  learning_rate=0.05, min_child_weight=1, n_estimators=100, gamma=0.05, score=0.7662022398563881, total=   1.1s\n",
      "[CV] learning_rate=0.05, min_child_weight=1, n_estimators=100, gamma=0.05 \n",
      "[CV]  learning_rate=0.05, min_child_weight=1, n_estimators=100, gamma=0.05, score=0.8009351677269507, total=   1.1s\n",
      "[CV] learning_rate=0.05, min_child_weight=1, n_estimators=100, gamma=0.05 \n",
      "[CV]  learning_rate=0.05, min_child_weight=1, n_estimators=100, gamma=0.05, score=0.8090118812054309, total=   1.1s\n",
      "[CV] learning_rate=0.05, min_child_weight=1, n_estimators=100, gamma=0.05 \n",
      "[CV]  learning_rate=0.05, min_child_weight=1, n_estimators=100, gamma=0.05, score=0.7909725421139482, total=   1.1s\n",
      "[CV] learning_rate=0.05, min_child_weight=1, n_estimators=100, gamma=0.05 \n",
      "[CV]  learning_rate=0.05, min_child_weight=1, n_estimators=100, gamma=0.05, score=0.7919566355708841, total=   1.1s\n",
      "[CV] learning_rate=0.05, min_child_weight=1, n_estimators=100, gamma=0.05 \n",
      "[CV]  learning_rate=0.05, min_child_weight=1, n_estimators=100, gamma=0.05, score=0.8034595886463828, total=   1.1s\n",
      "[CV] learning_rate=0.05, min_child_weight=1, n_estimators=100, gamma=0.05 \n",
      "[CV]  learning_rate=0.05, min_child_weight=1, n_estimators=100, gamma=0.05, score=0.8264091830555775, total=   1.1s\n",
      "[CV] learning_rate=0.05, min_child_weight=1, n_estimators=100, gamma=0.05 \n",
      "[CV]  learning_rate=0.05, min_child_weight=1, n_estimators=100, gamma=0.05, score=0.7803695805433426, total=   1.1s\n",
      "[CV] learning_rate=0.05, min_child_weight=2, n_estimators=30, gamma=0.05 \n",
      "[CV]  learning_rate=0.05, min_child_weight=2, n_estimators=30, gamma=0.05, score=0.7572891501309935, total=   0.4s\n",
      "[CV] learning_rate=0.05, min_child_weight=2, n_estimators=30, gamma=0.05 \n",
      "[CV]  learning_rate=0.05, min_child_weight=2, n_estimators=30, gamma=0.05, score=0.7904586081183865, total=   0.4s\n",
      "[CV] learning_rate=0.05, min_child_weight=2, n_estimators=30, gamma=0.05 \n",
      "[CV]  learning_rate=0.05, min_child_weight=2, n_estimators=30, gamma=0.05, score=0.7965944624315526, total=   0.4s\n",
      "[CV] learning_rate=0.05, min_child_weight=2, n_estimators=30, gamma=0.05 \n",
      "[CV]  learning_rate=0.05, min_child_weight=2, n_estimators=30, gamma=0.05, score=0.7864521075924642, total=   0.4s\n",
      "[CV] learning_rate=0.05, min_child_weight=2, n_estimators=30, gamma=0.05 \n",
      "[CV]  learning_rate=0.05, min_child_weight=2, n_estimators=30, gamma=0.05, score=0.7802635389516364, total=   0.4s\n",
      "[CV] learning_rate=0.05, min_child_weight=2, n_estimators=30, gamma=0.05 \n",
      "[CV]  learning_rate=0.05, min_child_weight=2, n_estimators=30, gamma=0.05, score=0.7932240154221041, total=   0.4s\n",
      "[CV] learning_rate=0.05, min_child_weight=2, n_estimators=30, gamma=0.05 \n",
      "[CV]  learning_rate=0.05, min_child_weight=2, n_estimators=30, gamma=0.05, score=0.7951174063250517, total=   0.5s\n",
      "[CV] learning_rate=0.05, min_child_weight=2, n_estimators=30, gamma=0.05 \n",
      "[CV]  learning_rate=0.05, min_child_weight=2, n_estimators=30, gamma=0.05, score=0.7752803154627654, total=   0.6s\n",
      "[CV] learning_rate=0.05, min_child_weight=2, n_estimators=60, gamma=0.05 \n",
      "[CV]  learning_rate=0.05, min_child_weight=2, n_estimators=60, gamma=0.05, score=0.7654583895531651, total=   1.2s\n",
      "[CV] learning_rate=0.05, min_child_weight=2, n_estimators=60, gamma=0.05 \n",
      "[CV]  learning_rate=0.05, min_child_weight=2, n_estimators=60, gamma=0.05, score=0.7979648663692236, total=   1.2s\n",
      "[CV] learning_rate=0.05, min_child_weight=2, n_estimators=60, gamma=0.05 \n",
      "[CV]  learning_rate=0.05, min_child_weight=2, n_estimators=60, gamma=0.05, score=0.8046697188085571, total=   0.9s\n",
      "[CV] learning_rate=0.05, min_child_weight=2, n_estimators=60, gamma=0.05 \n",
      "[CV]  learning_rate=0.05, min_child_weight=2, n_estimators=60, gamma=0.05, score=0.7930920880005131, total=   0.6s\n",
      "[CV] learning_rate=0.05, min_child_weight=2, n_estimators=60, gamma=0.05 \n",
      "[CV]  learning_rate=0.05, min_child_weight=2, n_estimators=60, gamma=0.05, score=0.7855685438222363, total=   0.6s\n",
      "[CV] learning_rate=0.05, min_child_weight=2, n_estimators=60, gamma=0.05 \n",
      "[CV]  learning_rate=0.05, min_child_weight=2, n_estimators=60, gamma=0.05, score=0.8016693140498529, total=   0.6s\n",
      "[CV] learning_rate=0.05, min_child_weight=2, n_estimators=60, gamma=0.05 \n",
      "[CV]  learning_rate=0.05, min_child_weight=2, n_estimators=60, gamma=0.05, score=0.8251849511623619, total=   0.6s\n",
      "[CV] learning_rate=0.05, min_child_weight=2, n_estimators=60, gamma=0.05 \n",
      "[CV]  learning_rate=0.05, min_child_weight=2, n_estimators=60, gamma=0.05, score=0.779478099851688, total=   0.6s\n",
      "[CV] learning_rate=0.05, min_child_weight=2, n_estimators=100, gamma=0.05 \n",
      "[CV]  learning_rate=0.05, min_child_weight=2, n_estimators=100, gamma=0.05, score=0.7667289820397671, total=   1.0s\n",
      "[CV] learning_rate=0.05, min_child_weight=2, n_estimators=100, gamma=0.05 \n",
      "[CV]  learning_rate=0.05, min_child_weight=2, n_estimators=100, gamma=0.05, score=0.8016586186095171, total=   1.4s\n",
      "[CV] learning_rate=0.05, min_child_weight=2, n_estimators=100, gamma=0.05 \n"
     ]
    },
    {
     "name": "stdout",
     "output_type": "stream",
     "text": [
      "[CV]  learning_rate=0.05, min_child_weight=2, n_estimators=100, gamma=0.05, score=0.808681847721239, total=   1.1s\n",
      "[CV] learning_rate=0.05, min_child_weight=2, n_estimators=100, gamma=0.05 \n",
      "[CV]  learning_rate=0.05, min_child_weight=2, n_estimators=100, gamma=0.05, score=0.7911314351687182, total=   1.1s\n",
      "[CV] learning_rate=0.05, min_child_weight=2, n_estimators=100, gamma=0.05 \n",
      "[CV]  learning_rate=0.05, min_child_weight=2, n_estimators=100, gamma=0.05, score=0.7915229620268718, total=   1.0s\n",
      "[CV] learning_rate=0.05, min_child_weight=2, n_estimators=100, gamma=0.05 \n",
      "[CV]  learning_rate=0.05, min_child_weight=2, n_estimators=100, gamma=0.05, score=0.804370083692412, total=   1.0s\n",
      "[CV] learning_rate=0.05, min_child_weight=2, n_estimators=100, gamma=0.05 \n",
      "[CV]  learning_rate=0.05, min_child_weight=2, n_estimators=100, gamma=0.05, score=0.82812413155593, total=   1.0s\n",
      "[CV] learning_rate=0.05, min_child_weight=2, n_estimators=100, gamma=0.05 \n",
      "[CV]  learning_rate=0.05, min_child_weight=2, n_estimators=100, gamma=0.05, score=0.7791804520735884, total=   1.1s\n",
      "[CV] learning_rate=0.1, min_child_weight=1, n_estimators=30, gamma=0.05 \n",
      "[CV]  learning_rate=0.1, min_child_weight=1, n_estimators=30, gamma=0.05, score=0.7661373988407301, total=   0.3s\n",
      "[CV] learning_rate=0.1, min_child_weight=1, n_estimators=30, gamma=0.05 \n",
      "[CV]  learning_rate=0.1, min_child_weight=1, n_estimators=30, gamma=0.05, score=0.7960837483644035, total=   0.4s\n",
      "[CV] learning_rate=0.1, min_child_weight=1, n_estimators=30, gamma=0.05 \n",
      "[CV]  learning_rate=0.1, min_child_weight=1, n_estimators=30, gamma=0.05, score=0.8042172888004266, total=   0.3s\n",
      "[CV] learning_rate=0.1, min_child_weight=1, n_estimators=30, gamma=0.05 \n",
      "[CV]  learning_rate=0.1, min_child_weight=1, n_estimators=30, gamma=0.05, score=0.7911984909533001, total=   0.4s\n",
      "[CV] learning_rate=0.1, min_child_weight=1, n_estimators=30, gamma=0.05 \n",
      "[CV]  learning_rate=0.1, min_child_weight=1, n_estimators=30, gamma=0.05, score=0.7874999634339339, total=   0.3s\n",
      "[CV] learning_rate=0.1, min_child_weight=1, n_estimators=30, gamma=0.05 \n",
      "[CV]  learning_rate=0.1, min_child_weight=1, n_estimators=30, gamma=0.05, score=0.8001876570512539, total=   0.4s\n",
      "[CV] learning_rate=0.1, min_child_weight=1, n_estimators=30, gamma=0.05 \n",
      "[CV]  learning_rate=0.1, min_child_weight=1, n_estimators=30, gamma=0.05, score=0.8272392327561745, total=   0.4s\n",
      "[CV] learning_rate=0.1, min_child_weight=1, n_estimators=30, gamma=0.05 \n",
      "[CV]  learning_rate=0.1, min_child_weight=1, n_estimators=30, gamma=0.05, score=0.7796331399719757, total=   0.3s\n",
      "[CV] learning_rate=0.1, min_child_weight=1, n_estimators=60, gamma=0.05 \n",
      "[CV]  learning_rate=0.1, min_child_weight=1, n_estimators=60, gamma=0.05, score=0.7670342447988763, total=   0.6s\n",
      "[CV] learning_rate=0.1, min_child_weight=1, n_estimators=60, gamma=0.05 \n",
      "[CV]  learning_rate=0.1, min_child_weight=1, n_estimators=60, gamma=0.05, score=0.8018210854240311, total=   0.7s\n",
      "[CV] learning_rate=0.1, min_child_weight=1, n_estimators=60, gamma=0.05 \n",
      "[CV]  learning_rate=0.1, min_child_weight=1, n_estimators=60, gamma=0.05, score=0.8094293407781505, total=   0.7s\n",
      "[CV] learning_rate=0.1, min_child_weight=1, n_estimators=60, gamma=0.05 \n",
      "[CV]  learning_rate=0.1, min_child_weight=1, n_estimators=60, gamma=0.05, score=0.7902465903591274, total=   0.7s\n",
      "[CV] learning_rate=0.1, min_child_weight=1, n_estimators=60, gamma=0.05 \n",
      "[CV]  learning_rate=0.1, min_child_weight=1, n_estimators=60, gamma=0.05, score=0.7935436028398669, total=   0.7s\n",
      "[CV] learning_rate=0.1, min_child_weight=1, n_estimators=60, gamma=0.05 \n",
      "[CV]  learning_rate=0.1, min_child_weight=1, n_estimators=60, gamma=0.05, score=0.8050546004499088, total=   0.7s\n",
      "[CV] learning_rate=0.1, min_child_weight=1, n_estimators=60, gamma=0.05 \n",
      "[CV]  learning_rate=0.1, min_child_weight=1, n_estimators=60, gamma=0.05, score=0.8264245408033419, total=   1.0s\n",
      "[CV] learning_rate=0.1, min_child_weight=1, n_estimators=60, gamma=0.05 \n",
      "[CV]  learning_rate=0.1, min_child_weight=1, n_estimators=60, gamma=0.05, score=0.7807937469101673, total=   1.2s\n",
      "[CV] learning_rate=0.1, min_child_weight=1, n_estimators=100, gamma=0.05 \n",
      "[CV]  learning_rate=0.1, min_child_weight=1, n_estimators=100, gamma=0.05, score=0.7692650671578071, total=   1.9s\n",
      "[CV] learning_rate=0.1, min_child_weight=1, n_estimators=100, gamma=0.05 \n",
      "[CV]  learning_rate=0.1, min_child_weight=1, n_estimators=100, gamma=0.05, score=0.8058914983957313, total=   1.2s\n",
      "[CV] learning_rate=0.1, min_child_weight=1, n_estimators=100, gamma=0.05 \n",
      "[CV]  learning_rate=0.1, min_child_weight=1, n_estimators=100, gamma=0.05, score=0.8120805369127517, total=   1.2s\n",
      "[CV] learning_rate=0.1, min_child_weight=1, n_estimators=100, gamma=0.05 \n",
      "[CV]  learning_rate=0.1, min_child_weight=1, n_estimators=100, gamma=0.05, score=0.7896525635717992, total=   1.2s\n",
      "[CV] learning_rate=0.1, min_child_weight=1, n_estimators=100, gamma=0.05 \n",
      "[CV]  learning_rate=0.1, min_child_weight=1, n_estimators=100, gamma=0.05, score=0.7958465336831975, total=   1.1s\n",
      "[CV] learning_rate=0.1, min_child_weight=1, n_estimators=100, gamma=0.05 \n",
      "[CV]  learning_rate=0.1, min_child_weight=1, n_estimators=100, gamma=0.05, score=0.8058897693997606, total=   1.1s\n",
      "[CV] learning_rate=0.1, min_child_weight=1, n_estimators=100, gamma=0.05 \n",
      "[CV]  learning_rate=0.1, min_child_weight=1, n_estimators=100, gamma=0.05, score=0.8263221558182462, total=   1.1s\n",
      "[CV] learning_rate=0.1, min_child_weight=1, n_estimators=100, gamma=0.05 \n",
      "[CV]  learning_rate=0.1, min_child_weight=1, n_estimators=100, gamma=0.05, score=0.7814424289228806, total=   1.1s\n",
      "[CV] learning_rate=0.1, min_child_weight=2, n_estimators=30, gamma=0.05 \n",
      "[CV]  learning_rate=0.1, min_child_weight=2, n_estimators=30, gamma=0.05, score=0.7661505127540091, total=   0.4s\n",
      "[CV] learning_rate=0.1, min_child_weight=2, n_estimators=30, gamma=0.05 \n",
      "[CV]  learning_rate=0.1, min_child_weight=2, n_estimators=30, gamma=0.05, score=0.7965281643144192, total=   0.4s\n",
      "[CV] learning_rate=0.1, min_child_weight=2, n_estimators=30, gamma=0.05 \n",
      "[CV]  learning_rate=0.1, min_child_weight=2, n_estimators=30, gamma=0.05, score=0.8046959466351157, total=   0.4s\n",
      "[CV] learning_rate=0.1, min_child_weight=2, n_estimators=30, gamma=0.05 \n",
      "[CV]  learning_rate=0.1, min_child_weight=2, n_estimators=30, gamma=0.05, score=0.7908493635531403, total=   0.4s\n",
      "[CV] learning_rate=0.1, min_child_weight=2, n_estimators=30, gamma=0.05 \n",
      "[CV]  learning_rate=0.1, min_child_weight=2, n_estimators=30, gamma=0.05, score=0.7870494694995129, total=   0.4s\n",
      "[CV] learning_rate=0.1, min_child_weight=2, n_estimators=30, gamma=0.05 \n",
      "[CV]  learning_rate=0.1, min_child_weight=2, n_estimators=30, gamma=0.05, score=0.8003712187031041, total=   0.4s\n",
      "[CV] learning_rate=0.1, min_child_weight=2, n_estimators=30, gamma=0.05 \n",
      "[CV]  learning_rate=0.1, min_child_weight=2, n_estimators=30, gamma=0.05, score=0.8273079769604531, total=   0.4s\n",
      "[CV] learning_rate=0.1, min_child_weight=2, n_estimators=30, gamma=0.05 \n",
      "[CV]  learning_rate=0.1, min_child_weight=2, n_estimators=30, gamma=0.05, score=0.7779532948950845, total=   0.4s\n",
      "[CV] learning_rate=0.1, min_child_weight=2, n_estimators=60, gamma=0.05 \n",
      "[CV]  learning_rate=0.1, min_child_weight=2, n_estimators=60, gamma=0.05, score=0.7665126024706612, total=   0.7s\n",
      "[CV] learning_rate=0.1, min_child_weight=2, n_estimators=60, gamma=0.05 \n",
      "[CV]  learning_rate=0.1, min_child_weight=2, n_estimators=60, gamma=0.05, score=0.8012921575884389, total=   0.7s\n",
      "[CV] learning_rate=0.1, min_child_weight=2, n_estimators=60, gamma=0.05 \n",
      "[CV]  learning_rate=0.1, min_child_weight=2, n_estimators=60, gamma=0.05, score=0.8095459088961874, total=   0.7s\n",
      "[CV] learning_rate=0.1, min_child_weight=2, n_estimators=60, gamma=0.05 \n",
      "[CV]  learning_rate=0.1, min_child_weight=2, n_estimators=60, gamma=0.05, score=0.7903231214176176, total=   0.7s\n",
      "[CV] learning_rate=0.1, min_child_weight=2, n_estimators=60, gamma=0.05 \n",
      "[CV]  learning_rate=0.1, min_child_weight=2, n_estimators=60, gamma=0.05, score=0.7938551457230867, total=   0.7s\n",
      "[CV] learning_rate=0.1, min_child_weight=2, n_estimators=60, gamma=0.05 \n",
      "[CV]  learning_rate=0.1, min_child_weight=2, n_estimators=60, gamma=0.05, score=0.8052659523119993, total=   0.7s\n",
      "[CV] learning_rate=0.1, min_child_weight=2, n_estimators=60, gamma=0.05 \n"
     ]
    },
    {
     "name": "stdout",
     "output_type": "stream",
     "text": [
      "[CV]  learning_rate=0.1, min_child_weight=2, n_estimators=60, gamma=0.05, score=0.8261210424546653, total=   0.7s\n",
      "[CV] learning_rate=0.1, min_child_weight=2, n_estimators=60, gamma=0.05 \n",
      "[CV]  learning_rate=0.1, min_child_weight=2, n_estimators=60, gamma=0.05, score=0.7794115496113758, total=   0.7s\n",
      "[CV] learning_rate=0.1, min_child_weight=2, n_estimators=100, gamma=0.05 \n",
      "[CV]  learning_rate=0.1, min_child_weight=2, n_estimators=100, gamma=0.05, score=0.7679369191629244, total=   1.2s\n",
      "[CV] learning_rate=0.1, min_child_weight=2, n_estimators=100, gamma=0.05 \n",
      "[CV]  learning_rate=0.1, min_child_weight=2, n_estimators=100, gamma=0.05, score=0.8020629642689576, total=   1.2s\n",
      "[CV] learning_rate=0.1, min_child_weight=2, n_estimators=100, gamma=0.05 \n",
      "[CV]  learning_rate=0.1, min_child_weight=2, n_estimators=100, gamma=0.05, score=0.8110489090681252, total=   1.1s\n",
      "[CV] learning_rate=0.1, min_child_weight=2, n_estimators=100, gamma=0.05 \n",
      "[CV]  learning_rate=0.1, min_child_weight=2, n_estimators=100, gamma=0.05, score=0.7897567915847906, total=   1.0s\n",
      "[CV] learning_rate=0.1, min_child_weight=2, n_estimators=100, gamma=0.05 \n",
      "[CV]  learning_rate=0.1, min_child_weight=2, n_estimators=100, gamma=0.05, score=0.7951276448235614, total=   1.1s\n",
      "[CV] learning_rate=0.1, min_child_weight=2, n_estimators=100, gamma=0.05 \n",
      "[CV]  learning_rate=0.1, min_child_weight=2, n_estimators=100, gamma=0.05, score=0.8060740623729329, total=   1.1s\n",
      "[CV] learning_rate=0.1, min_child_weight=2, n_estimators=100, gamma=0.05 \n",
      "[CV]  learning_rate=0.1, min_child_weight=2, n_estimators=100, gamma=0.05, score=0.8258029176795467, total=   1.1s\n",
      "[CV] learning_rate=0.1, min_child_weight=2, n_estimators=100, gamma=0.05 \n",
      "[CV]  learning_rate=0.1, min_child_weight=2, n_estimators=100, gamma=0.05, score=0.7808595658291575, total=   1.2s\n",
      "[CV] learning_rate=0.15, min_child_weight=1, n_estimators=30, gamma=0.05 \n",
      "[CV]  learning_rate=0.15, min_child_weight=1, n_estimators=30, gamma=0.05, score=0.7689182770066472, total=   0.4s\n",
      "[CV] learning_rate=0.15, min_child_weight=1, n_estimators=30, gamma=0.05 \n",
      "[CV]  learning_rate=0.15, min_child_weight=1, n_estimators=30, gamma=0.05, score=0.8014327678808209, total=   0.4s\n",
      "[CV] learning_rate=0.15, min_child_weight=1, n_estimators=30, gamma=0.05 \n",
      "[CV]  learning_rate=0.15, min_child_weight=1, n_estimators=30, gamma=0.05, score=0.8084567255432802, total=   0.4s\n",
      "[CV] learning_rate=0.15, min_child_weight=1, n_estimators=30, gamma=0.05 \n",
      "[CV]  learning_rate=0.15, min_child_weight=1, n_estimators=30, gamma=0.05, score=0.7926780914174427, total=   0.4s\n",
      "[CV] learning_rate=0.15, min_child_weight=1, n_estimators=30, gamma=0.05 \n",
      "[CV]  learning_rate=0.15, min_child_weight=1, n_estimators=30, gamma=0.05, score=0.7920187978832636, total=   0.4s\n",
      "[CV] learning_rate=0.15, min_child_weight=1, n_estimators=30, gamma=0.05 \n",
      "[CV]  learning_rate=0.15, min_child_weight=1, n_estimators=30, gamma=0.05, score=0.8037104318598672, total=   0.4s\n",
      "[CV] learning_rate=0.15, min_child_weight=1, n_estimators=30, gamma=0.05 \n",
      "[CV]  learning_rate=0.15, min_child_weight=1, n_estimators=30, gamma=0.05, score=0.8283742434480923, total=   0.4s\n",
      "[CV] learning_rate=0.15, min_child_weight=1, n_estimators=30, gamma=0.05 \n",
      "[CV]  learning_rate=0.15, min_child_weight=1, n_estimators=30, gamma=0.05, score=0.7783723420126548, total=   0.4s\n",
      "[CV] learning_rate=0.15, min_child_weight=1, n_estimators=60, gamma=0.05 \n",
      "[CV]  learning_rate=0.15, min_child_weight=1, n_estimators=60, gamma=0.05, score=0.7688439648313988, total=   0.7s\n",
      "[CV] learning_rate=0.15, min_child_weight=1, n_estimators=60, gamma=0.05 \n",
      "[CV]  learning_rate=0.15, min_child_weight=1, n_estimators=60, gamma=0.05, score=0.8043753843105141, total=   0.7s\n",
      "[CV] learning_rate=0.15, min_child_weight=1, n_estimators=60, gamma=0.05 \n",
      "[CV]  learning_rate=0.15, min_child_weight=1, n_estimators=60, gamma=0.05, score=0.8117774598058558, total=   0.7s\n",
      "[CV] learning_rate=0.15, min_child_weight=1, n_estimators=60, gamma=0.05 \n",
      "[CV]  learning_rate=0.15, min_child_weight=1, n_estimators=60, gamma=0.05, score=0.7923377104239675, total=   0.7s\n",
      "[CV] learning_rate=0.15, min_child_weight=1, n_estimators=60, gamma=0.05 \n",
      "[CV]  learning_rate=0.15, min_child_weight=1, n_estimators=60, gamma=0.05, score=0.7962063437736765, total=   0.7s\n",
      "[CV] learning_rate=0.15, min_child_weight=1, n_estimators=60, gamma=0.05 \n",
      "[CV]  learning_rate=0.15, min_child_weight=1, n_estimators=60, gamma=0.05, score=0.8039247090072459, total=   0.7s\n",
      "[CV] learning_rate=0.15, min_child_weight=1, n_estimators=60, gamma=0.05 \n",
      "[CV]  learning_rate=0.15, min_child_weight=1, n_estimators=60, gamma=0.05, score=0.8258446029949071, total=   0.7s\n",
      "[CV] learning_rate=0.15, min_child_weight=1, n_estimators=60, gamma=0.05 \n",
      "[CV]  learning_rate=0.15, min_child_weight=1, n_estimators=60, gamma=0.05, score=0.7771876014708334, total=   0.7s\n",
      "[CV] learning_rate=0.15, min_child_weight=1, n_estimators=100, gamma=0.05 \n",
      "[CV]  learning_rate=0.15, min_child_weight=1, n_estimators=100, gamma=0.05, score=0.7712037406709078, total=   1.1s\n",
      "[CV] learning_rate=0.15, min_child_weight=1, n_estimators=100, gamma=0.05 \n",
      "[CV]  learning_rate=0.15, min_child_weight=1, n_estimators=100, gamma=0.05, score=0.8053348856321052, total=   1.1s\n",
      "[CV] learning_rate=0.15, min_child_weight=1, n_estimators=100, gamma=0.05 \n",
      "[CV]  learning_rate=0.15, min_child_weight=1, n_estimators=100, gamma=0.05, score=0.8131886625848397, total=   1.0s\n",
      "[CV] learning_rate=0.15, min_child_weight=1, n_estimators=100, gamma=0.05 \n",
      "[CV]  learning_rate=0.15, min_child_weight=1, n_estimators=100, gamma=0.05, score=0.7913311447880162, total=   1.1s\n",
      "[CV] learning_rate=0.15, min_child_weight=1, n_estimators=100, gamma=0.05 \n",
      "[CV]  learning_rate=0.15, min_child_weight=1, n_estimators=100, gamma=0.05, score=0.7959920666262977, total=   1.1s\n",
      "[CV] learning_rate=0.15, min_child_weight=1, n_estimators=100, gamma=0.05 \n",
      "[CV]  learning_rate=0.15, min_child_weight=1, n_estimators=100, gamma=0.05, score=0.8102667275126006, total=   1.2s\n",
      "[CV] learning_rate=0.15, min_child_weight=1, n_estimators=100, gamma=0.05 \n",
      "[CV]  learning_rate=0.15, min_child_weight=1, n_estimators=100, gamma=0.05, score=0.8259462566586806, total=   1.2s\n",
      "[CV] learning_rate=0.15, min_child_weight=1, n_estimators=100, gamma=0.05 \n",
      "[CV]  learning_rate=0.15, min_child_weight=1, n_estimators=100, gamma=0.05, score=0.7796828698218793, total=   1.2s\n",
      "[CV] learning_rate=0.15, min_child_weight=2, n_estimators=30, gamma=0.05 \n",
      "[CV]  learning_rate=0.15, min_child_weight=2, n_estimators=30, gamma=0.05, score=0.7663341075399173, total=   0.4s\n",
      "[CV] learning_rate=0.15, min_child_weight=2, n_estimators=30, gamma=0.05 \n",
      "[CV]  learning_rate=0.15, min_child_weight=2, n_estimators=30, gamma=0.05, score=0.8019391106435436, total=   0.4s\n",
      "[CV] learning_rate=0.15, min_child_weight=2, n_estimators=30, gamma=0.05 \n",
      "[CV]  learning_rate=0.15, min_child_weight=2, n_estimators=30, gamma=0.05, score=0.8084363261226238, total=   0.4s\n",
      "[CV] learning_rate=0.15, min_child_weight=2, n_estimators=30, gamma=0.05 \n",
      "[CV]  learning_rate=0.15, min_child_weight=2, n_estimators=30, gamma=0.05, score=0.792377069254048, total=   0.4s\n",
      "[CV] learning_rate=0.15, min_child_weight=2, n_estimators=30, gamma=0.05 \n",
      "[CV]  learning_rate=0.15, min_child_weight=2, n_estimators=30, gamma=0.05, score=0.7898570120551006, total=   0.4s\n",
      "[CV] learning_rate=0.15, min_child_weight=2, n_estimators=30, gamma=0.05 \n",
      "[CV]  learning_rate=0.15, min_child_weight=2, n_estimators=30, gamma=0.05, score=0.8028335775946549, total=   0.4s\n",
      "[CV] learning_rate=0.15, min_child_weight=2, n_estimators=30, gamma=0.05 \n",
      "[CV]  learning_rate=0.15, min_child_weight=2, n_estimators=30, gamma=0.05, score=0.8286470263012401, total=   0.4s\n",
      "[CV] learning_rate=0.15, min_child_weight=2, n_estimators=30, gamma=0.05 \n",
      "[CV]  learning_rate=0.15, min_child_weight=2, n_estimators=30, gamma=0.05, score=0.7793303729446214, total=   0.4s\n",
      "[CV] learning_rate=0.15, min_child_weight=2, n_estimators=60, gamma=0.05 \n",
      "[CV]  learning_rate=0.15, min_child_weight=2, n_estimators=60, gamma=0.05, score=0.7697204113688885, total=   0.7s\n",
      "[CV] learning_rate=0.15, min_child_weight=2, n_estimators=60, gamma=0.05 \n",
      "[CV]  learning_rate=0.15, min_child_weight=2, n_estimators=60, gamma=0.05, score=0.8084734822102481, total=   0.6s\n",
      "[CV] learning_rate=0.15, min_child_weight=2, n_estimators=60, gamma=0.05 \n"
     ]
    },
    {
     "name": "stdout",
     "output_type": "stream",
     "text": [
      "[CV]  learning_rate=0.15, min_child_weight=2, n_estimators=60, gamma=0.05, score=0.8111487205191944, total=   0.6s\n",
      "[CV] learning_rate=0.15, min_child_weight=2, n_estimators=60, gamma=0.05 \n",
      "[CV]  learning_rate=0.15, min_child_weight=2, n_estimators=60, gamma=0.05, score=0.7898427979171891, total=   0.6s\n",
      "[CV] learning_rate=0.15, min_child_weight=2, n_estimators=60, gamma=0.05 \n",
      "[CV]  learning_rate=0.15, min_child_weight=2, n_estimators=60, gamma=0.05, score=0.7976814188803762, total=   0.6s\n",
      "[CV] learning_rate=0.15, min_child_weight=2, n_estimators=60, gamma=0.05 \n",
      "[CV]  learning_rate=0.15, min_child_weight=2, n_estimators=60, gamma=0.05, score=0.8053778444742823, total=   0.6s\n",
      "[CV] learning_rate=0.15, min_child_weight=2, n_estimators=60, gamma=0.05 \n",
      "[CV]  learning_rate=0.15, min_child_weight=2, n_estimators=60, gamma=0.05, score=0.8260998341363242, total=   0.6s\n",
      "[CV] learning_rate=0.15, min_child_weight=2, n_estimators=60, gamma=0.05 \n",
      "[CV]  learning_rate=0.15, min_child_weight=2, n_estimators=60, gamma=0.05, score=0.7795914546566154, total=   0.7s\n",
      "[CV] learning_rate=0.15, min_child_weight=2, n_estimators=100, gamma=0.05 \n",
      "[CV]  learning_rate=0.15, min_child_weight=2, n_estimators=100, gamma=0.05, score=0.7701283997820176, total=   1.0s\n",
      "[CV] learning_rate=0.15, min_child_weight=2, n_estimators=100, gamma=0.05 \n",
      "[CV]  learning_rate=0.15, min_child_weight=2, n_estimators=100, gamma=0.05, score=0.8112514461732143, total=   1.1s\n",
      "[CV] learning_rate=0.15, min_child_weight=2, n_estimators=100, gamma=0.05 \n",
      "[CV]  learning_rate=0.15, min_child_weight=2, n_estimators=100, gamma=0.05, score=0.8132119762084472, total=   1.0s\n",
      "[CV] learning_rate=0.15, min_child_weight=2, n_estimators=100, gamma=0.05 \n",
      "[CV]  learning_rate=0.15, min_child_weight=2, n_estimators=100, gamma=0.05, score=0.7880767526341261, total=   1.7s\n",
      "[CV] learning_rate=0.15, min_child_weight=2, n_estimators=100, gamma=0.05 \n",
      "[CV]  learning_rate=0.15, min_child_weight=2, n_estimators=100, gamma=0.05, score=0.7967914008313661, total=   1.9s\n",
      "[CV] learning_rate=0.15, min_child_weight=2, n_estimators=100, gamma=0.05 \n",
      "[CV]  learning_rate=0.15, min_child_weight=2, n_estimators=100, gamma=0.05, score=0.8037842953134003, total=   1.4s\n",
      "[CV] learning_rate=0.15, min_child_weight=2, n_estimators=100, gamma=0.05 \n",
      "[CV]  learning_rate=0.15, min_child_weight=2, n_estimators=100, gamma=0.05, score=0.8260069563284159, total=   1.2s\n",
      "[CV] learning_rate=0.15, min_child_weight=2, n_estimators=100, gamma=0.05 \n",
      "[CV]  learning_rate=0.15, min_child_weight=2, n_estimators=100, gamma=0.05, score=0.7769301763654499, total=   1.2s\n"
     ]
    },
    {
     "name": "stderr",
     "output_type": "stream",
     "text": [
      "[Parallel(n_jobs=1)]: Done 288 out of 288 | elapsed:  3.6min finished\n"
     ]
    },
    {
     "data": {
      "text/plain": [
       "GridSearchCV(cv=8, error_score='raise',\n",
       "       estimator=XGBClassifier(base_score=0.5, colsample_bylevel=1, colsample_bytree=1,\n",
       "       gamma=0, learning_rate=0.1, max_delta_step=0, max_depth=3,\n",
       "       min_child_weight=1, missing=None, n_estimators=100, nthread=-1,\n",
       "       objective='binary:logistic', reg_alpha=0, reg_lambda=1,\n",
       "       scale_pos_weight=1.0, seed=0, silent=True, subsample=1.0),\n",
       "       fit_params=None, iid=True, n_jobs=1,\n",
       "       param_grid={'learning_rate': [0.05, 0.1, 0.15], 'gamma': [0.0, 0.05], 'n_estimators': [30, 60, 100], 'min_child_weight': [1, 2]},\n",
       "       pre_dispatch='2*n_jobs', refit=True, return_train_score='warn',\n",
       "       scoring='roc_auc', verbose=10)"
      ]
     },
     "execution_count": 77,
     "metadata": {},
     "output_type": "execute_result"
    }
   ],
   "source": [
    "from sklearn.model_selection import cross_val_score\n",
    "from sklearn.metrics import roc_auc_score, make_scorer, accuracy_score\n",
    "grid_classifier.fit(X, y)"
   ]
  },
  {
   "cell_type": "code",
   "execution_count": 78,
   "metadata": {},
   "outputs": [
    {
     "name": "stdout",
     "output_type": "stream",
     "text": [
      "0.799368676295 {'learning_rate': 0.15, 'min_child_weight': 1, 'n_estimators': 100, 'gamma': 0.0}\n"
     ]
    }
   ],
   "source": [
    "print(grid_classifier.best_score_, grid_classifier.best_params_)\n",
    "best_classifier = grid_classifier.best_estimator_"
   ]
  },
  {
   "cell_type": "markdown",
   "metadata": {},
   "source": [
    "# 5. Final training on entire dataset"
   ]
  },
  {
   "cell_type": "code",
   "execution_count": 79,
   "metadata": {},
   "outputs": [
    {
     "data": {
      "text/plain": [
       "XGBClassifier(base_score=0.5, colsample_bylevel=1, colsample_bytree=1,\n",
       "       gamma=0.0, learning_rate=0.15, max_delta_step=0, max_depth=3,\n",
       "       min_child_weight=1, missing=None, n_estimators=100, nthread=-1,\n",
       "       objective='binary:logistic', reg_alpha=0, reg_lambda=1,\n",
       "       scale_pos_weight=1.0, seed=0, silent=True, subsample=1.0)"
      ]
     },
     "execution_count": 79,
     "metadata": {},
     "output_type": "execute_result"
    }
   ],
   "source": [
    "best_classifier.fit(X, y)"
   ]
  },
  {
   "cell_type": "code",
   "execution_count": 80,
   "metadata": {},
   "outputs": [
    {
     "data": {
      "text/plain": [
       "array([ 0.        ,  0.00749625,  0.0149925 ,  0.03148426,  0.00149925,\n",
       "        0.00449775,  0.00449775,  0.00149925,  0.        ,  0.00449775,\n",
       "        0.00749625,  0.005997  ,  0.00149925,  0.        ,  0.00149925,\n",
       "        0.        ,  0.00449775,  0.005997  ,  0.        ,  0.00149925,\n",
       "        0.005997  ,  0.00149925,  0.        ,  0.00149925,  0.00749625,\n",
       "        0.        ,  0.005997  ,  0.02248876,  0.00449775,  0.005997  ,\n",
       "        0.01949026,  0.01049475,  0.0029985 ,  0.01049475,  0.        ,\n",
       "        0.        ,  0.        ,  0.        ,  0.        ,  0.02998501,\n",
       "        0.0029985 ,  0.00449775,  0.01049475,  0.00749625,  0.00749625,\n",
       "        0.005997  ,  0.01649175,  0.02098951,  0.03898051,  0.0149925 ,\n",
       "        0.        ,  0.01049475,  0.02398801,  0.011994  ,  0.0029985 ,\n",
       "        0.        ,  0.00149925,  0.00149925,  0.        ,  0.01649175,\n",
       "        0.005997  ,  0.00449775,  0.02098951,  0.011994  ,  0.02098951,\n",
       "        0.01049475,  0.0089955 ,  0.        ,  0.00149925,  0.        ,\n",
       "        0.00449775,  0.0149925 ,  0.        ,  0.        ,  0.        ,\n",
       "        0.        ,  0.0089955 ,  0.        ,  0.        ,  0.00449775,\n",
       "        0.        ,  0.00149925,  0.005997  ,  0.        ,  0.        ,\n",
       "        0.005997  ,  0.        ,  0.00149925,  0.005997  ,  0.00749625,\n",
       "        0.        ,  0.00149925,  0.        ,  0.42428786], dtype=float32)"
      ]
     },
     "execution_count": 80,
     "metadata": {},
     "output_type": "execute_result"
    }
   ],
   "source": [
    "best_classifier.feature_importances_"
   ]
  },
  {
   "cell_type": "markdown",
   "metadata": {},
   "source": [
    "# Alternative - neural network"
   ]
  },
  {
   "cell_type": "code",
   "execution_count": 66,
   "metadata": {},
   "outputs": [
    {
     "name": "stdout",
     "output_type": "stream",
     "text": [
      "(20799, 94) (20799, 2)\n"
     ]
    }
   ],
   "source": [
    "y = to_categorical(y)\n",
    "\n",
    "print(X.shape, y.shape)\n",
    "a, b = X.shape\n"
   ]
  },
  {
   "cell_type": "code",
   "execution_count": 67,
   "metadata": {},
   "outputs": [
    {
     "name": "stdout",
     "output_type": "stream",
     "text": [
      "(20799, 94, 1)\n"
     ]
    }
   ],
   "source": [
    "X = np.reshape(X, (a, b, 1))\n",
    "print(X.shape)"
   ]
  },
  {
   "cell_type": "code",
   "execution_count": 68,
   "metadata": {},
   "outputs": [],
   "source": [
    "from keras.models import Model\n",
    "from keras.layers import Conv1D, MaxPooling1D, Flatten, Dense, Input, Dropout\n",
    "from keras.utils.np_utils import to_categorical\n",
    "\n",
    "sequence_input = Input(shape=(94, 1), dtype='float')\n",
    "l_cov1 = Conv1D(32, 5, activation='relu')(sequence_input)\n",
    "l_pool1 = MaxPooling1D(1)(l_cov1)\n",
    "l_cov2 = Conv1D(32, 5, activation='relu')(l_pool1)\n",
    "l_pool2 = MaxPooling1D(1)(l_cov2)\n",
    "l_cov3 = Conv1D(32, 5, activation='relu')(l_pool2)\n",
    "l_pool3 = MaxPooling1D(1)(l_cov3)  # global max pooling\n",
    "l_flat = Flatten()(l_pool3)\n",
    "l_dense = Dense(128, activation='relu')(l_flat)\n",
    "l_dense = Dropout(0.2)(l_dense)\n",
    "l_dense = Dense(32, activation='relu')(l_dense)\n",
    "preds = Dense(2, activation='softmax')(l_dense)\n",
    "\n",
    "model = Model(sequence_input, preds)\n",
    "model.compile(loss='categorical_crossentropy',\n",
    "              optimizer='rmsprop', metrics=['acc'])"
   ]
  },
  {
   "cell_type": "code",
   "execution_count": 69,
   "metadata": {},
   "outputs": [
    {
     "name": "stdout",
     "output_type": "stream",
     "text": [
      "_________________________________________________________________\n",
      "Layer (type)                 Output Shape              Param #   \n",
      "=================================================================\n",
      "input_3 (InputLayer)         (None, 94, 1)             0         \n",
      "_________________________________________________________________\n",
      "conv1d_7 (Conv1D)            (None, 90, 32)            192       \n",
      "_________________________________________________________________\n",
      "max_pooling1d_7 (MaxPooling1 (None, 90, 32)            0         \n",
      "_________________________________________________________________\n",
      "conv1d_8 (Conv1D)            (None, 86, 32)            5152      \n",
      "_________________________________________________________________\n",
      "max_pooling1d_8 (MaxPooling1 (None, 86, 32)            0         \n",
      "_________________________________________________________________\n",
      "conv1d_9 (Conv1D)            (None, 82, 32)            5152      \n",
      "_________________________________________________________________\n",
      "max_pooling1d_9 (MaxPooling1 (None, 82, 32)            0         \n",
      "_________________________________________________________________\n",
      "flatten_3 (Flatten)          (None, 2624)              0         \n",
      "_________________________________________________________________\n",
      "dense_7 (Dense)              (None, 128)               336000    \n",
      "_________________________________________________________________\n",
      "dropout_3 (Dropout)          (None, 128)               0         \n",
      "_________________________________________________________________\n",
      "dense_8 (Dense)              (None, 32)                4128      \n",
      "_________________________________________________________________\n",
      "dense_9 (Dense)              (None, 2)                 66        \n",
      "=================================================================\n",
      "Total params: 350,690\n",
      "Trainable params: 350,690\n",
      "Non-trainable params: 0\n",
      "_________________________________________________________________\n"
     ]
    }
   ],
   "source": [
    "model.summary()"
   ]
  },
  {
   "cell_type": "code",
   "execution_count": 70,
   "metadata": {},
   "outputs": [],
   "source": [
    "from sklearn.model_selection import train_test_split\n",
    "X_train, X_test, y_train, y_test = train_test_split(X, y, test_size=0.2, random_state=42)"
   ]
  },
  {
   "cell_type": "code",
   "execution_count": 71,
   "metadata": {},
   "outputs": [
    {
     "name": "stdout",
     "output_type": "stream",
     "text": [
      "Train on 16639 samples, validate on 4160 samples\n",
      "Epoch 1/3\n",
      "16639/16639 [==============================] - 7s 449us/step - loss: 1.8599 - acc: 0.8846 - val_loss: 1.7823 - val_acc: 0.8894\n",
      "Epoch 2/3\n",
      "16639/16639 [==============================] - 7s 426us/step - loss: 1.8599 - acc: 0.8846 - val_loss: 1.7823 - val_acc: 0.8894\n",
      "Epoch 3/3\n",
      "16639/16639 [==============================] - 7s 430us/step - loss: 1.8599 - acc: 0.8846 - val_loss: 1.7823 - val_acc: 0.8894\n"
     ]
    },
    {
     "data": {
      "text/plain": [
       "<keras.callbacks.History at 0x7f4498a1c978>"
      ]
     },
     "execution_count": 71,
     "metadata": {},
     "output_type": "execute_result"
    }
   ],
   "source": [
    "model.fit(X_train, y_train, epochs=3, validation_data=(X_test, y_test))"
   ]
  },
  {
   "cell_type": "code",
   "execution_count": 72,
   "metadata": {},
   "outputs": [
    {
     "name": "stdout",
     "output_type": "stream",
     "text": [
      "0.477312867215\n"
     ]
    }
   ],
   "source": [
    "from sklearn.metrics import roc_auc_score\n",
    "preds = model.predict(X_test)\n",
    "print(roc_auc_score(y_test, preds))"
   ]
  },
  {
   "cell_type": "markdown",
   "metadata": {},
   "source": [
    "# 6. Prepare the results"
   ]
  },
  {
   "cell_type": "code",
   "execution_count": 81,
   "metadata": {},
   "outputs": [],
   "source": [
    "from pandas import DataFrame\n",
    "\n",
    "def return_submission(classifier, path, test_df):\n",
    "    X_test, _ = get_input_data(test_df)\n",
    "    predictions = classifier.predict_proba(X_test)\n",
    "    results_pd = DataFrame({'id': test_df['id'], 'y': predictions[::, 1]})\n",
    "    results_pd = results_pd.sort_values('id')\n",
    "    results_pd.to_csv(path, index=False)\n",
    "\n",
    "return_submission(best_classifier, 'my_submission.csv', test_df)"
   ]
  },
  {
   "cell_type": "code",
   "execution_count": 82,
   "metadata": {},
   "outputs": [
    {
     "name": "stdout",
     "output_type": "stream",
     "text": [
      "id,y\n",
      "2,0.021366089582443237\n",
      "4,0.03655022755265236\n",
      "5,0.01246862206608057\n",
      "7,0.013638028874993324\n",
      "10,0.012996723875403404\n",
      "12,0.012996723875403404\n",
      "14,0.01654668152332306\n",
      "16,0.023178990930318832\n",
      "18,0.06959205865859985\n",
      "41171,0.16976727545261383\n",
      "41172,0.15140275657176971\n",
      "41174,0.287984699010849\n",
      "41175,0.6019675731658936\n",
      "41178,0.39674851298332214\n",
      "41180,0.4534866213798523\n",
      "41181,0.46498045325279236\n",
      "41184,0.31047722697257996\n",
      "41185,0.5279009342193604\n",
      "41187,0.5447174906730652\n"
     ]
    }
   ],
   "source": [
    "!head my_submission.csv\n",
    "!tail my_submission.csv"
   ]
  },
  {
   "cell_type": "markdown",
   "metadata": {},
   "source": [
    "# 7. Conclusions\n",
    "\n",
    "* Some information doesn't help in classification\n",
    "\n",
    "Tried but failed to improve:\n",
    "* polynomial features\n",
    "* feature selection\n",
    "* oversampling\n",
    "* convolutional neural networks"
   ]
  }
 ],
 "metadata": {
  "kernelspec": {
   "display_name": "Python 3",
   "language": "python",
   "name": "python3"
  },
  "language_info": {
   "codemirror_mode": {
    "name": "ipython",
    "version": 3
   },
   "file_extension": ".py",
   "mimetype": "text/x-python",
   "name": "python",
   "nbconvert_exporter": "python",
   "pygments_lexer": "ipython3",
   "version": "3.5.2"
  }
 },
 "nbformat": 4,
 "nbformat_minor": 2
}
