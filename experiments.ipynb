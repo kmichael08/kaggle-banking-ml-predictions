{
 "cells": [
  {
   "cell_type": "code",
   "execution_count": 38,
   "metadata": {},
   "outputs": [
    {
     "name": "stdout",
     "output_type": "stream",
     "text": [
      "bank-classification.csv  experiments.ipynb  README.md  sample_submission.csv\r\n"
     ]
    }
   ],
   "source": [
    "!ls"
   ]
  },
  {
   "cell_type": "code",
   "execution_count": 64,
   "metadata": {},
   "outputs": [
    {
     "name": "stdout",
     "output_type": "stream",
     "text": [
      "id,y\r\n",
      "2,0.114428578297\r\n",
      "4,0.114428578297\r\n",
      "5,0.114428578297\r\n",
      "7,0.114428578297\r\n",
      "10,0.114428578297\r\n",
      "12,0.114428578297\r\n",
      "14,0.114428578297\r\n",
      "16,0.114428578297\r\n",
      "18,0.114428578297\r\n"
     ]
    }
   ],
   "source": [
    "!head sample_submission.csv"
   ]
  },
  {
   "cell_type": "code",
   "execution_count": 202,
   "metadata": {},
   "outputs": [
    {
     "name": "stdout",
     "output_type": "stream",
     "text": [
      "          id  birth_date          job  marital    education  default housing  \\\n",
      "32884  32885  1952-07-15   technician  married  high.school       no      no   \n",
      "3169    3170  1953-06-30      unknown  married      unknown  unknown     yes   \n",
      "32206  32207  1976-09-12  blue-collar  married     basic.9y       no      no   \n",
      "9403    9404  1972-04-10       admin.  married  high.school       no      no   \n",
      "14020  14021  1981-05-25    housemaid  married  high.school       no     yes   \n",
      "\n",
      "      loan contact_date    contact  campaign  pdays  previous     poutcome  \\\n",
      "32884  yes   2009-05-04   cellular         1    999         1      failure   \n",
      "3169    no   2008-05-08  telephone         2    999         0  nonexistent   \n",
      "32206   no   2009-05-08   cellular         1    999         1      failure   \n",
      "9403    no   2008-06-27  telephone         4    999         0  nonexistent   \n",
      "14020   no   2008-07-25   cellular         2    999         0  nonexistent   \n",
      "\n",
      "             y  \n",
      "32884  unknown  \n",
      "3169   unknown  \n",
      "32206       no  \n",
      "9403        no  \n",
      "14020  unknown  \n"
     ]
    }
   ],
   "source": [
    "import pandas as pd\n",
    "df = pd.read_csv('bank-classification.csv')\n",
    "df = df.sample(frac=1, replace=False, random_state=42)\n",
    "print(df[:5])"
   ]
  },
  {
   "cell_type": "code",
   "execution_count": 207,
   "metadata": {},
   "outputs": [
    {
     "name": "stderr",
     "output_type": "stream",
     "text": [
      "/home/michal/Pulpit/jnp_ml/mlenv/lib/python3.5/site-packages/ipykernel_launcher.py:2: SettingWithCopyWarning: \n",
      "A value is trying to be set on a copy of a slice from a DataFrame.\n",
      "Try using .loc[row_indexer,col_indexer] = value instead\n",
      "\n",
      "See the caveats in the documentation: http://pandas.pydata.org/pandas-docs/stable/indexing.html#indexing-view-versus-copy\n",
      "  \n"
     ]
    }
   ],
   "source": [
    "train_df = df.loc[df['y'] != 'unknown']\n",
    "train_df['y'] = train_df['y'].map({'no': 0, 'yes': 1})\n",
    "test_df = df.loc[df['y'] == 'unknown']"
   ]
  },
  {
   "cell_type": "code",
   "execution_count": 209,
   "metadata": {},
   "outputs": [
    {
     "data": {
      "text/html": [
       "<div>\n",
       "<style>\n",
       "    .dataframe thead tr:only-child th {\n",
       "        text-align: right;\n",
       "    }\n",
       "\n",
       "    .dataframe thead th {\n",
       "        text-align: left;\n",
       "    }\n",
       "\n",
       "    .dataframe tbody tr th {\n",
       "        vertical-align: top;\n",
       "    }\n",
       "</style>\n",
       "<table border=\"1\" class=\"dataframe\">\n",
       "  <thead>\n",
       "    <tr style=\"text-align: right;\">\n",
       "      <th></th>\n",
       "      <th>id</th>\n",
       "    </tr>\n",
       "    <tr>\n",
       "      <th>y</th>\n",
       "      <th></th>\n",
       "    </tr>\n",
       "  </thead>\n",
       "  <tbody>\n",
       "    <tr>\n",
       "      <th>0</th>\n",
       "      <td>18419</td>\n",
       "    </tr>\n",
       "    <tr>\n",
       "      <th>1</th>\n",
       "      <td>2380</td>\n",
       "    </tr>\n",
       "  </tbody>\n",
       "</table>\n",
       "</div>"
      ],
      "text/plain": [
       "      id\n",
       "y       \n",
       "0  18419\n",
       "1   2380"
      ]
     },
     "execution_count": 209,
     "metadata": {},
     "output_type": "execute_result"
    }
   ],
   "source": [
    "train_df.get(['id', 'y']).groupby(['y']).count()"
   ]
  },
  {
   "cell_type": "code",
   "execution_count": 210,
   "metadata": {},
   "outputs": [
    {
     "data": {
      "text/html": [
       "<div>\n",
       "<style>\n",
       "    .dataframe thead tr:only-child th {\n",
       "        text-align: right;\n",
       "    }\n",
       "\n",
       "    .dataframe thead th {\n",
       "        text-align: left;\n",
       "    }\n",
       "\n",
       "    .dataframe tbody tr th {\n",
       "        vertical-align: top;\n",
       "    }\n",
       "</style>\n",
       "<table border=\"1\" class=\"dataframe\">\n",
       "  <thead>\n",
       "    <tr style=\"text-align: right;\">\n",
       "      <th></th>\n",
       "      <th>id</th>\n",
       "    </tr>\n",
       "    <tr>\n",
       "      <th>job</th>\n",
       "      <th></th>\n",
       "    </tr>\n",
       "  </thead>\n",
       "  <tbody>\n",
       "    <tr>\n",
       "      <th>admin.</th>\n",
       "      <td>5284</td>\n",
       "    </tr>\n",
       "    <tr>\n",
       "      <th>blue-collar</th>\n",
       "      <td>4708</td>\n",
       "    </tr>\n",
       "    <tr>\n",
       "      <th>entrepreneur</th>\n",
       "      <td>745</td>\n",
       "    </tr>\n",
       "    <tr>\n",
       "      <th>housemaid</th>\n",
       "      <td>522</td>\n",
       "    </tr>\n",
       "    <tr>\n",
       "      <th>management</th>\n",
       "      <td>1485</td>\n",
       "    </tr>\n",
       "    <tr>\n",
       "      <th>retired</th>\n",
       "      <td>874</td>\n",
       "    </tr>\n",
       "    <tr>\n",
       "      <th>self-employed</th>\n",
       "      <td>699</td>\n",
       "    </tr>\n",
       "    <tr>\n",
       "      <th>services</th>\n",
       "      <td>1995</td>\n",
       "    </tr>\n",
       "    <tr>\n",
       "      <th>student</th>\n",
       "      <td>444</td>\n",
       "    </tr>\n",
       "    <tr>\n",
       "      <th>technician</th>\n",
       "      <td>3365</td>\n",
       "    </tr>\n",
       "    <tr>\n",
       "      <th>unemployed</th>\n",
       "      <td>496</td>\n",
       "    </tr>\n",
       "    <tr>\n",
       "      <th>unknown</th>\n",
       "      <td>182</td>\n",
       "    </tr>\n",
       "  </tbody>\n",
       "</table>\n",
       "</div>"
      ],
      "text/plain": [
       "                 id\n",
       "job                \n",
       "admin.         5284\n",
       "blue-collar    4708\n",
       "entrepreneur    745\n",
       "housemaid       522\n",
       "management     1485\n",
       "retired         874\n",
       "self-employed   699\n",
       "services       1995\n",
       "student         444\n",
       "technician     3365\n",
       "unemployed      496\n",
       "unknown         182"
      ]
     },
     "execution_count": 210,
     "metadata": {},
     "output_type": "execute_result"
    }
   ],
   "source": [
    "train_df.get(['id', 'job']).groupby(['job']).count()"
   ]
  },
  {
   "cell_type": "code",
   "execution_count": 50,
   "metadata": {},
   "outputs": [
    {
     "data": {
      "text/html": [
       "<div>\n",
       "<style>\n",
       "    .dataframe thead tr:only-child th {\n",
       "        text-align: right;\n",
       "    }\n",
       "\n",
       "    .dataframe thead th {\n",
       "        text-align: left;\n",
       "    }\n",
       "\n",
       "    .dataframe tbody tr th {\n",
       "        vertical-align: top;\n",
       "    }\n",
       "</style>\n",
       "<table border=\"1\" class=\"dataframe\">\n",
       "  <thead>\n",
       "    <tr style=\"text-align: right;\">\n",
       "      <th></th>\n",
       "      <th>id</th>\n",
       "    </tr>\n",
       "    <tr>\n",
       "      <th>education</th>\n",
       "      <th></th>\n",
       "    </tr>\n",
       "  </thead>\n",
       "  <tbody>\n",
       "    <tr>\n",
       "      <th>basic.4y</th>\n",
       "      <td>2154</td>\n",
       "    </tr>\n",
       "    <tr>\n",
       "      <th>basic.6y</th>\n",
       "      <td>1170</td>\n",
       "    </tr>\n",
       "    <tr>\n",
       "      <th>basic.9y</th>\n",
       "      <td>3016</td>\n",
       "    </tr>\n",
       "    <tr>\n",
       "      <th>high.school</th>\n",
       "      <td>4781</td>\n",
       "    </tr>\n",
       "    <tr>\n",
       "      <th>illiterate</th>\n",
       "      <td>7</td>\n",
       "    </tr>\n",
       "    <tr>\n",
       "      <th>professional.course</th>\n",
       "      <td>2592</td>\n",
       "    </tr>\n",
       "    <tr>\n",
       "      <th>university.degree</th>\n",
       "      <td>6192</td>\n",
       "    </tr>\n",
       "    <tr>\n",
       "      <th>unknown</th>\n",
       "      <td>887</td>\n",
       "    </tr>\n",
       "  </tbody>\n",
       "</table>\n",
       "</div>"
      ],
      "text/plain": [
       "                       id\n",
       "education                \n",
       "basic.4y             2154\n",
       "basic.6y             1170\n",
       "basic.9y             3016\n",
       "high.school          4781\n",
       "illiterate              7\n",
       "professional.course  2592\n",
       "university.degree    6192\n",
       "unknown               887"
      ]
     },
     "execution_count": 50,
     "metadata": {},
     "output_type": "execute_result"
    }
   ],
   "source": [
    "train_df.get(['id', 'education']).groupby(['education']).count()"
   ]
  },
  {
   "cell_type": "code",
   "execution_count": 51,
   "metadata": {},
   "outputs": [
    {
     "data": {
      "text/html": [
       "<div>\n",
       "<style>\n",
       "    .dataframe thead tr:only-child th {\n",
       "        text-align: right;\n",
       "    }\n",
       "\n",
       "    .dataframe thead th {\n",
       "        text-align: left;\n",
       "    }\n",
       "\n",
       "    .dataframe tbody tr th {\n",
       "        vertical-align: top;\n",
       "    }\n",
       "</style>\n",
       "<table border=\"1\" class=\"dataframe\">\n",
       "  <thead>\n",
       "    <tr style=\"text-align: right;\">\n",
       "      <th></th>\n",
       "      <th>id</th>\n",
       "    </tr>\n",
       "    <tr>\n",
       "      <th>marital</th>\n",
       "      <th></th>\n",
       "    </tr>\n",
       "  </thead>\n",
       "  <tbody>\n",
       "    <tr>\n",
       "      <th>divorced</th>\n",
       "      <td>2347</td>\n",
       "    </tr>\n",
       "    <tr>\n",
       "      <th>married</th>\n",
       "      <td>12512</td>\n",
       "    </tr>\n",
       "    <tr>\n",
       "      <th>single</th>\n",
       "      <td>5896</td>\n",
       "    </tr>\n",
       "    <tr>\n",
       "      <th>unknown</th>\n",
       "      <td>44</td>\n",
       "    </tr>\n",
       "  </tbody>\n",
       "</table>\n",
       "</div>"
      ],
      "text/plain": [
       "             id\n",
       "marital        \n",
       "divorced   2347\n",
       "married   12512\n",
       "single     5896\n",
       "unknown      44"
      ]
     },
     "execution_count": 51,
     "metadata": {},
     "output_type": "execute_result"
    }
   ],
   "source": [
    "train_df.get(['id', 'marital']).groupby(['marital']).count()"
   ]
  },
  {
   "cell_type": "code",
   "execution_count": 296,
   "metadata": {},
   "outputs": [],
   "source": [
    "import numpy as np\n",
    "import matplotlib.pyplot as plt\n",
    "from keras.utils.np_utils import to_categorical\n",
    "from sklearn.preprocessing import LabelEncoder\n",
    "\n",
    "\n",
    "def get_year(date):\n",
    "    year_str = date[:4]\n",
    "    year = int(year_str)\n",
    "    return year\n",
    "\n",
    "def get_categorical(column):\n",
    "    le = LabelEncoder()\n",
    "    le.fit(column)\n",
    "    labeled_column = le.transform(column)\n",
    "    return to_categorical(labeled_column).T\n",
    "\n",
    "def get_input_data(df):\n",
    "    ages = np.array([[get_year(contact) - get_year(birth) for contact, birth in\n",
    "                     zip(df['contact_date'], df['birth_date'])]])\n",
    "    \n",
    "    jobs = get_categorical(df['job'])\n",
    "    education = get_categorical(df['education'])\n",
    "    marital = get_categorical(df['marital'])\n",
    "    loan = get_categorical(df['loan'])\n",
    "    default = get_categorical(df['default'])\n",
    "    housing = get_categorical(df['housing'])\n",
    "    contact_years = [get_year(contact) for contact in df['contact_date']]\n",
    "    contact = get_categorical(contact_years)\n",
    "    poutcome = get_categorical(df['poutcome'])\n",
    "    campaign = np.array([df['campaign']])\n",
    "    previous = np.array([df['previous']])\n",
    "    contact_type = get_categorical(df['contact'])\n",
    "        \n",
    "    return np.concatenate([ages, jobs, education, marital, loan, default, housing, contact, poutcome,\n",
    "                           campaign, previous, contact_type], axis=0).T, np.array(df['y'])"
   ]
  },
  {
   "cell_type": "code",
   "execution_count": 297,
   "metadata": {},
   "outputs": [
    {
     "name": "stdout",
     "output_type": "stream",
     "text": [
      "[[ 33.   0.   1. ...,   1.   1.   0.]\n",
      " [ 36.   1.   0. ...,   0.   0.   1.]\n",
      " [ 58.   0.   0. ...,   0.   1.   0.]\n",
      " ..., \n",
      " [ 58.   0.   0. ...,   0.   1.   0.]\n",
      " [ 37.   0.   0. ...,   0.   0.   1.]\n",
      " [ 29.   1.   0. ...,   0.   1.   0.]] [0 0 0 ..., 0 0 0]\n"
     ]
    }
   ],
   "source": [
    "from sklearn.ensemble import RandomForestClassifier, AdaBoostClassifier, ExtraTreesClassifier\n",
    "\n",
    "#classifier = RandomForestClassifier(class_weight='balanced')\n",
    "classifier = AdaBoostClassifier(base_estimator=base)\n",
    "X, y = get_input_data(train_df)\n",
    "print(X, y)"
   ]
  },
  {
   "cell_type": "code",
   "execution_count": 280,
   "metadata": {},
   "outputs": [],
   "source": [
    "from sklearn.model_selection import train_test_split\n",
    "\n",
    "X_train, X_val, y_train, y_val = train_test_split(X, y, test_size=0.2, random_state=42)"
   ]
  },
  {
   "cell_type": "code",
   "execution_count": 298,
   "metadata": {},
   "outputs": [
    {
     "data": {
      "text/plain": [
       "AdaBoostClassifier(algorithm='SAMME.R',\n",
       "          base_estimator=RandomForestClassifier(bootstrap=True, class_weight='balanced',\n",
       "            criterion='gini', max_depth=None, max_features='auto',\n",
       "            max_leaf_nodes=None, min_impurity_decrease=0.0,\n",
       "            min_impurity_split=None, min_samples_leaf=1,\n",
       "            min_samples_split=2, min_weight_fraction_leaf=0.0,\n",
       "            n_estimators=10, n_jobs=1, oob_score=False, random_state=None,\n",
       "            verbose=0, warm_start=False),\n",
       "          learning_rate=1.0, n_estimators=50, random_state=None)"
      ]
     },
     "execution_count": 298,
     "metadata": {},
     "output_type": "execute_result"
    }
   ],
   "source": [
    "classifier.fit(X_train, y_train)"
   ]
  },
  {
   "cell_type": "code",
   "execution_count": 299,
   "metadata": {},
   "outputs": [
    {
     "name": "stdout",
     "output_type": "stream",
     "text": [
      "0.849519230769\n",
      "[ 0.05359697  0.0307094   0.070911   ...,  0.01184437  0.02760193\n",
      "  0.07859799]\n",
      "[0 0 0 ..., 0 0 0]\n",
      "0.70191333725\n"
     ]
    }
   ],
   "source": [
    "from sklearn.metrics import roc_auc_score\n",
    "\n",
    "print(classifier.score(X_val, y_val))\n",
    "\n",
    "y_pred = classifier.predict_proba(X_val)[::, 1]\n",
    "print(y_pred)\n",
    "print(y_val)\n",
    "print(roc_auc_score(y_val, y_pred))"
   ]
  },
  {
   "cell_type": "code",
   "execution_count": 294,
   "metadata": {},
   "outputs": [],
   "source": [
    "from pandas import DataFrame\n",
    "\n",
    "def return_submission(classifier, path, test_df):\n",
    "    X_test, _ = get_input_data(test_df)\n",
    "    classes = classifier.classes_\n",
    "    predictions = classifier.predict_proba(X_test)\n",
    "    results_pd = DataFrame({'id': test_df['id'], 'y': predictions[::, 1]})\n",
    "    results_pd = results_pd.sort_values('id')\n",
    "    results_pd.to_csv(path, index=False)\n",
    "\n",
    "return_submission(classifier, 'my_submission.csv', test_df)"
   ]
  },
  {
   "cell_type": "code",
   "execution_count": 295,
   "metadata": {},
   "outputs": [
    {
     "name": "stdout",
     "output_type": "stream",
     "text": [
      "id,y\r\n",
      "2,0.11032912546221481\r\n",
      "4,0.16127864972142605\r\n",
      "5,0.16133373870247456\r\n",
      "7,0.3172618292260777\r\n",
      "10,0.5121092606583669\r\n",
      "12,0.5121092606583669\r\n",
      "14,0.10295645195520924\r\n",
      "16,0.1587737655716813\r\n",
      "18,0.0170387173745394\r\n"
     ]
    }
   ],
   "source": [
    "!head my_submission.csv"
   ]
  },
  {
   "cell_type": "code",
   "execution_count": null,
   "metadata": {},
   "outputs": [],
   "source": []
  }
 ],
 "metadata": {
  "kernelspec": {
   "display_name": "Python 3",
   "language": "python",
   "name": "python3"
  },
  "language_info": {
   "codemirror_mode": {
    "name": "ipython",
    "version": 3
   },
   "file_extension": ".py",
   "mimetype": "text/x-python",
   "name": "python",
   "nbconvert_exporter": "python",
   "pygments_lexer": "ipython3",
   "version": "3.5.2"
  }
 },
 "nbformat": 4,
 "nbformat_minor": 2
}
